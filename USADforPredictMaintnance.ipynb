{
 "cells": [
  {
   "cell_type": "code",
   "execution_count": 1,
   "metadata": {},
   "outputs": [],
   "source": [
    "import pandas as pd\n",
    "from plotly.subplots import make_subplots\n",
    "import plotly.graph_objects as go\n",
    "import plotly.express as px\n",
    "import datetime\n",
    "import seaborn as sns\n",
    "from sklearn.model_selection import train_test_split\n",
    "from sklearn import preprocessing\n",
    "\n",
    "import torch\n",
    "import torch.nn as nn\n",
    "import torch.utils.data as data_utils\n",
    "\n",
    "import utils\n",
    "import USAD\n",
    "\n",
    "import numpy as np\n",
    "pd.set_option('display.width', 1000)\n",
    "pd.options.display.float_format = '{:.2f}'.format"
   ]
  },
  {
   "cell_type": "code",
   "execution_count": 2,
   "metadata": {},
   "outputs": [
    {
     "name": "stdout",
     "output_type": "stream",
     "text": [
      "PyTorch version:2.1.0\n",
      "MPS 장치를 지원하도록 build 되었는지: True\n",
      "MPS 장치가 사용 가능한지: True\n"
     ]
    }
   ],
   "source": [
    "print (f\"PyTorch version:{torch.__version__}\") # 1.12.1 이상\n",
    "print(f\"MPS 장치를 지원하도록 build 되었는지: {torch.backends.mps.is_built()}\") # True 여야 합니다.\n",
    "print(f\"MPS 장치가 사용 가능한지: {torch.backends.mps.is_available()}\") # True 여야 합니다."
   ]
  },
  {
   "cell_type": "code",
   "execution_count": 3,
   "metadata": {},
   "outputs": [],
   "source": [
    "device = utils.get_default_device()\n",
    "# device = torch.device(torch.device(\"mps:0\") if torch.backends.mps.is_available() else 'cpu')"
   ]
  },
  {
   "cell_type": "code",
   "execution_count": 4,
   "metadata": {},
   "outputs": [],
   "source": [
    "path = './경진대회용 열처리 품질보증 데이터셋/'\n",
    "df = pd.read_csv(path+'data.csv', encoding='cp949')\n",
    "df['TAG_MIN']=pd.to_datetime(df.TAG_MIN, format='%Y-%m-%d %H:%M:%S')\n",
    "\n",
    "dfd = df.describe()\n",
    "dfd.loc['upper_outlier'] = dfd.loc['75%'] + ((dfd.loc['75%'] - dfd.loc['25%'])*1.5)\n",
    "dfd.loc['lower_outlier'] = dfd.loc['25%'] - ((dfd.loc['75%'] - dfd.loc['25%'])*1.5)"
   ]
  },
  {
   "cell_type": "code",
   "execution_count": 24,
   "metadata": {},
   "outputs": [
    {
     "data": {
      "text/plain": [
       "0"
      ]
     },
     "execution_count": 24,
     "metadata": {},
     "output_type": "execute_result"
    }
   ],
   "source": [
    "df.duplicated().sum()"
   ]
  },
  {
   "cell_type": "code",
   "execution_count": 22,
   "metadata": {},
   "outputs": [
    {
     "data": {
      "text/plain": [
       "99.84090332351154"
      ]
     },
     "execution_count": 22,
     "metadata": {},
     "output_type": "execute_result"
    }
   ],
   "source": [
    "duplicated_records = data[data.duplicated()].shape[0]\n",
    "    uniqueness = 1 - (duplicated_records / total_records)\n",
    "    quality_metrics['uniqueness'] = uniqueness"
   ]
  },
  {
   "cell_type": "code",
   "execution_count": 50,
   "metadata": {},
   "outputs": [
    {
     "data": {
      "text/html": [
       "<div>\n",
       "<style scoped>\n",
       "    .dataframe tbody tr th:only-of-type {\n",
       "        vertical-align: middle;\n",
       "    }\n",
       "\n",
       "    .dataframe tbody tr th {\n",
       "        vertical-align: top;\n",
       "    }\n",
       "\n",
       "    .dataframe thead th {\n",
       "        text-align: right;\n",
       "    }\n",
       "</style>\n",
       "<table border=\"1\" class=\"dataframe\">\n",
       "  <thead>\n",
       "    <tr style=\"text-align: right;\">\n",
       "      <th></th>\n",
       "      <th>TAG_MIN</th>\n",
       "      <th>배정번호</th>\n",
       "      <th>건조 1존 OP</th>\n",
       "      <th>건조 2존 OP</th>\n",
       "      <th>건조로 온도 1 Zone</th>\n",
       "      <th>건조로 온도 2 Zone</th>\n",
       "      <th>세정기</th>\n",
       "      <th>소입1존 OP</th>\n",
       "      <th>소입2존 OP</th>\n",
       "      <th>소입3존 OP</th>\n",
       "      <th>...</th>\n",
       "      <th>소입로 CP 값</th>\n",
       "      <th>소입로 CP 모니터 값</th>\n",
       "      <th>소입로 온도 1 Zone</th>\n",
       "      <th>소입로 온도 2 Zone</th>\n",
       "      <th>소입로 온도 3 Zone</th>\n",
       "      <th>소입로 온도 4 Zone</th>\n",
       "      <th>솔트 컨베이어 온도 1 Zone</th>\n",
       "      <th>솔트 컨베이어 온도 2 Zone</th>\n",
       "      <th>솔트조 온도 1 Zone</th>\n",
       "      <th>솔트조 온도 2 Zone</th>\n",
       "    </tr>\n",
       "  </thead>\n",
       "  <tbody>\n",
       "    <tr>\n",
       "      <th>count</th>\n",
       "      <td>2939722</td>\n",
       "      <td>2939722.00</td>\n",
       "      <td>2939721.00</td>\n",
       "      <td>2939721.00</td>\n",
       "      <td>2939606.00</td>\n",
       "      <td>2939574.00</td>\n",
       "      <td>2939631.00</td>\n",
       "      <td>2935434.00</td>\n",
       "      <td>2939722.00</td>\n",
       "      <td>2939720.00</td>\n",
       "      <td>...</td>\n",
       "      <td>2939721.00</td>\n",
       "      <td>2939575.00</td>\n",
       "      <td>2939592.00</td>\n",
       "      <td>2939594.00</td>\n",
       "      <td>2939565.00</td>\n",
       "      <td>2939552.00</td>\n",
       "      <td>2939616.00</td>\n",
       "      <td>2939580.00</td>\n",
       "      <td>2939513.00</td>\n",
       "      <td>2939519.00</td>\n",
       "    </tr>\n",
       "    <tr>\n",
       "      <th>mean</th>\n",
       "      <td>2022-04-20 13:31:35.956592640</td>\n",
       "      <td>128442.25</td>\n",
       "      <td>69.89</td>\n",
       "      <td>20.45</td>\n",
       "      <td>100.01</td>\n",
       "      <td>100.02</td>\n",
       "      <td>67.72</td>\n",
       "      <td>75.64</td>\n",
       "      <td>54.86</td>\n",
       "      <td>53.86</td>\n",
       "      <td>...</td>\n",
       "      <td>0.45</td>\n",
       "      <td>0.00</td>\n",
       "      <td>859.21</td>\n",
       "      <td>860.00</td>\n",
       "      <td>860.00</td>\n",
       "      <td>860.01</td>\n",
       "      <td>284.00</td>\n",
       "      <td>279.93</td>\n",
       "      <td>331.81</td>\n",
       "      <td>332.18</td>\n",
       "    </tr>\n",
       "    <tr>\n",
       "      <th>min</th>\n",
       "      <td>2022-01-03 11:22:07</td>\n",
       "      <td>102410.00</td>\n",
       "      <td>47.25</td>\n",
       "      <td>0.00</td>\n",
       "      <td>97.34</td>\n",
       "      <td>97.87</td>\n",
       "      <td>60.62</td>\n",
       "      <td>0.00</td>\n",
       "      <td>8.62</td>\n",
       "      <td>0.04</td>\n",
       "      <td>...</td>\n",
       "      <td>0.01</td>\n",
       "      <td>0.00</td>\n",
       "      <td>840.30</td>\n",
       "      <td>855.93</td>\n",
       "      <td>858.28</td>\n",
       "      <td>857.99</td>\n",
       "      <td>266.23</td>\n",
       "      <td>266.43</td>\n",
       "      <td>328.16</td>\n",
       "      <td>328.07</td>\n",
       "    </tr>\n",
       "    <tr>\n",
       "      <th>25%</th>\n",
       "      <td>2022-03-12 01:18:09.249999872</td>\n",
       "      <td>119448.00</td>\n",
       "      <td>68.43</td>\n",
       "      <td>18.92</td>\n",
       "      <td>99.81</td>\n",
       "      <td>99.89</td>\n",
       "      <td>66.57</td>\n",
       "      <td>64.96</td>\n",
       "      <td>53.33</td>\n",
       "      <td>52.39</td>\n",
       "      <td>...</td>\n",
       "      <td>0.45</td>\n",
       "      <td>0.00</td>\n",
       "      <td>857.95</td>\n",
       "      <td>859.78</td>\n",
       "      <td>859.83</td>\n",
       "      <td>859.84</td>\n",
       "      <td>274.75</td>\n",
       "      <td>273.50</td>\n",
       "      <td>331.87</td>\n",
       "      <td>332.18</td>\n",
       "    </tr>\n",
       "    <tr>\n",
       "      <th>50%</th>\n",
       "      <td>2022-04-22 15:20:36.500000</td>\n",
       "      <td>129889.00</td>\n",
       "      <td>70.52</td>\n",
       "      <td>21.29</td>\n",
       "      <td>100.00</td>\n",
       "      <td>100.02</td>\n",
       "      <td>67.70</td>\n",
       "      <td>82.21</td>\n",
       "      <td>55.67</td>\n",
       "      <td>53.89</td>\n",
       "      <td>...</td>\n",
       "      <td>0.45</td>\n",
       "      <td>0.00</td>\n",
       "      <td>859.58</td>\n",
       "      <td>860.02</td>\n",
       "      <td>860.00</td>\n",
       "      <td>860.00</td>\n",
       "      <td>284.59</td>\n",
       "      <td>280.02</td>\n",
       "      <td>332.02</td>\n",
       "      <td>332.42</td>\n",
       "    </tr>\n",
       "    <tr>\n",
       "      <th>75%</th>\n",
       "      <td>2022-06-06 01:11:17.750000128</td>\n",
       "      <td>139116.00</td>\n",
       "      <td>72.38</td>\n",
       "      <td>23.39</td>\n",
       "      <td>100.19</td>\n",
       "      <td>100.16</td>\n",
       "      <td>68.98</td>\n",
       "      <td>95.37</td>\n",
       "      <td>57.57</td>\n",
       "      <td>55.41</td>\n",
       "      <td>...</td>\n",
       "      <td>0.45</td>\n",
       "      <td>0.00</td>\n",
       "      <td>860.26</td>\n",
       "      <td>860.25</td>\n",
       "      <td>860.17</td>\n",
       "      <td>860.16</td>\n",
       "      <td>293.34</td>\n",
       "      <td>286.33</td>\n",
       "      <td>332.14</td>\n",
       "      <td>332.63</td>\n",
       "    </tr>\n",
       "    <tr>\n",
       "      <th>max</th>\n",
       "      <td>2022-07-19 19:08:59</td>\n",
       "      <td>148069.00</td>\n",
       "      <td>87.30</td>\n",
       "      <td>47.54</td>\n",
       "      <td>102.47</td>\n",
       "      <td>101.84</td>\n",
       "      <td>71.49</td>\n",
       "      <td>100.00</td>\n",
       "      <td>77.27</td>\n",
       "      <td>66.02</td>\n",
       "      <td>...</td>\n",
       "      <td>0.91</td>\n",
       "      <td>0.00</td>\n",
       "      <td>877.23</td>\n",
       "      <td>866.03</td>\n",
       "      <td>870.12</td>\n",
       "      <td>882.15</td>\n",
       "      <td>298.53</td>\n",
       "      <td>291.70</td>\n",
       "      <td>332.72</td>\n",
       "      <td>333.18</td>\n",
       "    </tr>\n",
       "    <tr>\n",
       "      <th>std</th>\n",
       "      <td>NaN</td>\n",
       "      <td>12637.04</td>\n",
       "      <td>4.01</td>\n",
       "      <td>5.22</td>\n",
       "      <td>0.44</td>\n",
       "      <td>0.36</td>\n",
       "      <td>1.63</td>\n",
       "      <td>25.16</td>\n",
       "      <td>4.43</td>\n",
       "      <td>2.66</td>\n",
       "      <td>...</td>\n",
       "      <td>0.02</td>\n",
       "      <td>0.00</td>\n",
       "      <td>3.65</td>\n",
       "      <td>0.56</td>\n",
       "      <td>0.35</td>\n",
       "      <td>0.46</td>\n",
       "      <td>9.51</td>\n",
       "      <td>6.61</td>\n",
       "      <td>0.78</td>\n",
       "      <td>0.87</td>\n",
       "    </tr>\n",
       "  </tbody>\n",
       "</table>\n",
       "<p>8 rows × 21 columns</p>\n",
       "</div>"
      ],
      "text/plain": [
       "                             TAG_MIN       배정번호   건조 1존 OP   건조 2존 OP  건조로 온도 1 Zone  건조로 온도 2 Zone        세정기    소입1존 OP    소입2존 OP    소입3존 OP  ...   소입로 CP 값  소입로 CP 모니터 값  소입로 온도 1 Zone  소입로 온도 2 Zone  소입로 온도 3 Zone  소입로 온도 4 Zone  솔트 컨베이어 온도 1 Zone  솔트 컨베이어 온도 2 Zone  솔트조 온도 1 Zone  솔트조 온도 2 Zone\n",
       "count                        2939722 2939722.00 2939721.00 2939721.00     2939606.00     2939574.00 2939631.00 2935434.00 2939722.00 2939720.00  ... 2939721.00    2939575.00     2939592.00     2939594.00     2939565.00     2939552.00         2939616.00         2939580.00     2939513.00     2939519.00\n",
       "mean   2022-04-20 13:31:35.956592640  128442.25      69.89      20.45         100.01         100.02      67.72      75.64      54.86      53.86  ...       0.45          0.00         859.21         860.00         860.00         860.01             284.00             279.93         331.81         332.18\n",
       "min              2022-01-03 11:22:07  102410.00      47.25       0.00          97.34          97.87      60.62       0.00       8.62       0.04  ...       0.01          0.00         840.30         855.93         858.28         857.99             266.23             266.43         328.16         328.07\n",
       "25%    2022-03-12 01:18:09.249999872  119448.00      68.43      18.92          99.81          99.89      66.57      64.96      53.33      52.39  ...       0.45          0.00         857.95         859.78         859.83         859.84             274.75             273.50         331.87         332.18\n",
       "50%       2022-04-22 15:20:36.500000  129889.00      70.52      21.29         100.00         100.02      67.70      82.21      55.67      53.89  ...       0.45          0.00         859.58         860.02         860.00         860.00             284.59             280.02         332.02         332.42\n",
       "75%    2022-06-06 01:11:17.750000128  139116.00      72.38      23.39         100.19         100.16      68.98      95.37      57.57      55.41  ...       0.45          0.00         860.26         860.25         860.17         860.16             293.34             286.33         332.14         332.63\n",
       "max              2022-07-19 19:08:59  148069.00      87.30      47.54         102.47         101.84      71.49     100.00      77.27      66.02  ...       0.91          0.00         877.23         866.03         870.12         882.15             298.53             291.70         332.72         333.18\n",
       "std                              NaN   12637.04       4.01       5.22           0.44           0.36       1.63      25.16       4.43       2.66  ...       0.02          0.00           3.65           0.56           0.35           0.46               9.51               6.61           0.78           0.87\n",
       "\n",
       "[8 rows x 21 columns]"
      ]
     },
     "execution_count": 50,
     "metadata": {},
     "output_type": "execute_result"
    }
   ],
   "source": [
    "df.describe()"
   ]
  },
  {
   "cell_type": "markdown",
   "metadata": {},
   "source": [
    "#### 결측치 처리\n",
    "##### 초당 샘플링 하기때문에 결측치 drop"
   ]
  },
  {
   "cell_type": "code",
   "execution_count": 5,
   "metadata": {},
   "outputs": [],
   "source": [
    "df.dropna(axis=0, inplace=True)\n",
    "df.reset_index(drop=True, inplace=True)"
   ]
  },
  {
   "cell_type": "code",
   "execution_count": 6,
   "metadata": {},
   "outputs": [],
   "source": [
    "def count_outlier(df, dfd):\n",
    "    columns = list(df.columns)\n",
    "    columns.remove('TAG_MIN')\n",
    "    columns.remove('배정번호')\n",
    "\n",
    "    buff_df1 = pd.DataFrame(index=df.index)\n",
    "\n",
    "    for column in columns:\n",
    "        buff_df1[column+'_error'] = 0\n",
    "        buff_df1[column+'_error'] += ((df[column] > dfd.loc['upper_outlier', column]) | (df[column] < dfd.loc['lower_outlier', column])) * 1.0\n",
    "\n",
    "    continue_num = 5\n",
    "\n",
    "    buff_df1 = buff_df1.rolling(window=continue_num).mean()\n",
    "    buff_df1 = (buff_df1>=1)*1.0\n",
    "\n",
    "    df = pd.concat([df, buff_df1], axis=1)\n",
    "    df.drop(index=range(continue_num), inplace=True)\n",
    "    df.reset_index(drop=True, inplace=True)\n",
    "\n",
    "\n",
    "    buff_df2 = pd.DataFrame(index=df.index)\n",
    "\n",
    "    preocesses = ['건조', '세정', '소입', '솔트']\n",
    "\n",
    "    for process in preocesses:\n",
    "        buff_df2[process+'_error'] = df[[column for column in df.columns if process in column and 'error' in column]].sum(axis=1)\n",
    "\n",
    "    df.drop(columns=[column for column in df.columns if 'error' in column], inplace=True)\n",
    "    df = pd.concat([df, buff_df2], axis=1)\n",
    "    \n",
    "    return df"
   ]
  },
  {
   "cell_type": "code",
   "execution_count": 7,
   "metadata": {},
   "outputs": [],
   "source": [
    "df = count_outlier(df, dfd)"
   ]
  },
  {
   "cell_type": "code",
   "execution_count": 8,
   "metadata": {},
   "outputs": [],
   "source": [
    "df.drop(columns=['TAG_MIN', '배정번호'], inplace=True)"
   ]
  },
  {
   "cell_type": "code",
   "execution_count": 9,
   "metadata": {},
   "outputs": [
    {
     "data": {
      "text/html": [
       "<div>\n",
       "<style scoped>\n",
       "    .dataframe tbody tr th:only-of-type {\n",
       "        vertical-align: middle;\n",
       "    }\n",
       "\n",
       "    .dataframe tbody tr th {\n",
       "        vertical-align: top;\n",
       "    }\n",
       "\n",
       "    .dataframe thead th {\n",
       "        text-align: right;\n",
       "    }\n",
       "</style>\n",
       "<table border=\"1\" class=\"dataframe\">\n",
       "  <thead>\n",
       "    <tr style=\"text-align: right;\">\n",
       "      <th></th>\n",
       "      <th>건조 1존 OP</th>\n",
       "      <th>건조 2존 OP</th>\n",
       "      <th>건조로 온도 1 Zone</th>\n",
       "      <th>건조로 온도 2 Zone</th>\n",
       "      <th>세정기</th>\n",
       "      <th>소입1존 OP</th>\n",
       "      <th>소입2존 OP</th>\n",
       "      <th>소입3존 OP</th>\n",
       "      <th>소입4존 OP</th>\n",
       "      <th>소입로 CP 값</th>\n",
       "      <th>...</th>\n",
       "      <th>소입로 온도 3 Zone</th>\n",
       "      <th>소입로 온도 4 Zone</th>\n",
       "      <th>솔트 컨베이어 온도 1 Zone</th>\n",
       "      <th>솔트 컨베이어 온도 2 Zone</th>\n",
       "      <th>솔트조 온도 1 Zone</th>\n",
       "      <th>솔트조 온도 2 Zone</th>\n",
       "      <th>건조_error</th>\n",
       "      <th>세정_error</th>\n",
       "      <th>소입_error</th>\n",
       "      <th>솔트_error</th>\n",
       "    </tr>\n",
       "  </thead>\n",
       "  <tbody>\n",
       "    <tr>\n",
       "      <th>0</th>\n",
       "      <td>75.9607</td>\n",
       "      <td>29.596700</td>\n",
       "      <td>98.7825</td>\n",
       "      <td>99.2001</td>\n",
       "      <td>68.4275</td>\n",
       "      <td>75.6285</td>\n",
       "      <td>61.1314</td>\n",
       "      <td>51.8036</td>\n",
       "      <td>71.6125</td>\n",
       "      <td>0.450566</td>\n",
       "      <td>...</td>\n",
       "      <td>859.991</td>\n",
       "      <td>859.731</td>\n",
       "      <td>294.721</td>\n",
       "      <td>272.599</td>\n",
       "      <td>328.740</td>\n",
       "      <td>328.869</td>\n",
       "      <td>2.0</td>\n",
       "      <td>0.0</td>\n",
       "      <td>0.0</td>\n",
       "      <td>2.0</td>\n",
       "    </tr>\n",
       "    <tr>\n",
       "      <th>1</th>\n",
       "      <td>76.2665</td>\n",
       "      <td>32.172600</td>\n",
       "      <td>98.7825</td>\n",
       "      <td>99.2001</td>\n",
       "      <td>68.4889</td>\n",
       "      <td>70.9577</td>\n",
       "      <td>59.6177</td>\n",
       "      <td>51.8148</td>\n",
       "      <td>71.5936</td>\n",
       "      <td>0.450445</td>\n",
       "      <td>...</td>\n",
       "      <td>859.991</td>\n",
       "      <td>859.731</td>\n",
       "      <td>294.781</td>\n",
       "      <td>272.661</td>\n",
       "      <td>328.740</td>\n",
       "      <td>328.869</td>\n",
       "      <td>2.0</td>\n",
       "      <td>0.0</td>\n",
       "      <td>0.0</td>\n",
       "      <td>2.0</td>\n",
       "    </tr>\n",
       "    <tr>\n",
       "      <th>2</th>\n",
       "      <td>76.2216</td>\n",
       "      <td>29.828000</td>\n",
       "      <td>98.7825</td>\n",
       "      <td>99.2001</td>\n",
       "      <td>68.4275</td>\n",
       "      <td>75.5710</td>\n",
       "      <td>59.6774</td>\n",
       "      <td>51.8251</td>\n",
       "      <td>70.1123</td>\n",
       "      <td>0.450361</td>\n",
       "      <td>...</td>\n",
       "      <td>859.991</td>\n",
       "      <td>859.793</td>\n",
       "      <td>294.781</td>\n",
       "      <td>272.661</td>\n",
       "      <td>328.740</td>\n",
       "      <td>328.869</td>\n",
       "      <td>2.0</td>\n",
       "      <td>0.0</td>\n",
       "      <td>0.0</td>\n",
       "      <td>2.0</td>\n",
       "    </tr>\n",
       "    <tr>\n",
       "      <th>3</th>\n",
       "      <td>76.1841</td>\n",
       "      <td>29.867600</td>\n",
       "      <td>98.7918</td>\n",
       "      <td>99.1460</td>\n",
       "      <td>68.4999</td>\n",
       "      <td>75.2962</td>\n",
       "      <td>61.1979</td>\n",
       "      <td>51.8345</td>\n",
       "      <td>70.1451</td>\n",
       "      <td>0.450424</td>\n",
       "      <td>...</td>\n",
       "      <td>859.991</td>\n",
       "      <td>859.793</td>\n",
       "      <td>294.781</td>\n",
       "      <td>272.722</td>\n",
       "      <td>328.740</td>\n",
       "      <td>328.929</td>\n",
       "      <td>2.0</td>\n",
       "      <td>0.0</td>\n",
       "      <td>0.0</td>\n",
       "      <td>2.0</td>\n",
       "    </tr>\n",
       "    <tr>\n",
       "      <th>4</th>\n",
       "      <td>76.1841</td>\n",
       "      <td>29.867600</td>\n",
       "      <td>98.7918</td>\n",
       "      <td>99.1460</td>\n",
       "      <td>68.4999</td>\n",
       "      <td>75.2962</td>\n",
       "      <td>61.1979</td>\n",
       "      <td>51.8345</td>\n",
       "      <td>70.1451</td>\n",
       "      <td>0.450424</td>\n",
       "      <td>...</td>\n",
       "      <td>859.991</td>\n",
       "      <td>859.793</td>\n",
       "      <td>294.842</td>\n",
       "      <td>272.722</td>\n",
       "      <td>328.800</td>\n",
       "      <td>328.929</td>\n",
       "      <td>2.0</td>\n",
       "      <td>0.0</td>\n",
       "      <td>0.0</td>\n",
       "      <td>2.0</td>\n",
       "    </tr>\n",
       "    <tr>\n",
       "      <th>...</th>\n",
       "      <td>...</td>\n",
       "      <td>...</td>\n",
       "      <td>...</td>\n",
       "      <td>...</td>\n",
       "      <td>...</td>\n",
       "      <td>...</td>\n",
       "      <td>...</td>\n",
       "      <td>...</td>\n",
       "      <td>...</td>\n",
       "      <td>...</td>\n",
       "      <td>...</td>\n",
       "      <td>...</td>\n",
       "      <td>...</td>\n",
       "      <td>...</td>\n",
       "      <td>...</td>\n",
       "      <td>...</td>\n",
       "      <td>...</td>\n",
       "      <td>...</td>\n",
       "      <td>...</td>\n",
       "      <td>...</td>\n",
       "      <td>...</td>\n",
       "    </tr>\n",
       "    <tr>\n",
       "      <th>2935035</th>\n",
       "      <td>61.2937</td>\n",
       "      <td>0.093966</td>\n",
       "      <td>99.9056</td>\n",
       "      <td>100.4870</td>\n",
       "      <td>67.1140</td>\n",
       "      <td>71.8356</td>\n",
       "      <td>60.7118</td>\n",
       "      <td>50.3777</td>\n",
       "      <td>76.3514</td>\n",
       "      <td>0.447112</td>\n",
       "      <td>...</td>\n",
       "      <td>859.930</td>\n",
       "      <td>859.419</td>\n",
       "      <td>280.798</td>\n",
       "      <td>272.102</td>\n",
       "      <td>332.058</td>\n",
       "      <td>332.247</td>\n",
       "      <td>2.0</td>\n",
       "      <td>0.0</td>\n",
       "      <td>0.0</td>\n",
       "      <td>0.0</td>\n",
       "    </tr>\n",
       "    <tr>\n",
       "      <th>2935036</th>\n",
       "      <td>61.7260</td>\n",
       "      <td>0.283887</td>\n",
       "      <td>99.8440</td>\n",
       "      <td>100.4870</td>\n",
       "      <td>67.1140</td>\n",
       "      <td>77.1783</td>\n",
       "      <td>60.6722</td>\n",
       "      <td>55.0392</td>\n",
       "      <td>76.3017</td>\n",
       "      <td>0.447982</td>\n",
       "      <td>...</td>\n",
       "      <td>859.743</td>\n",
       "      <td>859.419</td>\n",
       "      <td>280.859</td>\n",
       "      <td>272.163</td>\n",
       "      <td>332.058</td>\n",
       "      <td>332.247</td>\n",
       "      <td>2.0</td>\n",
       "      <td>0.0</td>\n",
       "      <td>0.0</td>\n",
       "      <td>0.0</td>\n",
       "    </tr>\n",
       "    <tr>\n",
       "      <th>2935037</th>\n",
       "      <td>61.6784</td>\n",
       "      <td>0.205745</td>\n",
       "      <td>99.7825</td>\n",
       "      <td>100.4870</td>\n",
       "      <td>67.1140</td>\n",
       "      <td>73.1729</td>\n",
       "      <td>62.1574</td>\n",
       "      <td>56.4989</td>\n",
       "      <td>76.2566</td>\n",
       "      <td>0.448688</td>\n",
       "      <td>...</td>\n",
       "      <td>859.681</td>\n",
       "      <td>859.419</td>\n",
       "      <td>280.859</td>\n",
       "      <td>272.163</td>\n",
       "      <td>332.058</td>\n",
       "      <td>332.186</td>\n",
       "      <td>2.0</td>\n",
       "      <td>0.0</td>\n",
       "      <td>0.0</td>\n",
       "      <td>0.0</td>\n",
       "    </tr>\n",
       "    <tr>\n",
       "      <th>2935038</th>\n",
       "      <td>61.5148</td>\n",
       "      <td>0.136414</td>\n",
       "      <td>99.8440</td>\n",
       "      <td>100.4870</td>\n",
       "      <td>67.1140</td>\n",
       "      <td>73.8443</td>\n",
       "      <td>62.0722</td>\n",
       "      <td>54.8139</td>\n",
       "      <td>76.2158</td>\n",
       "      <td>0.448501</td>\n",
       "      <td>...</td>\n",
       "      <td>859.743</td>\n",
       "      <td>859.419</td>\n",
       "      <td>280.921</td>\n",
       "      <td>272.163</td>\n",
       "      <td>332.058</td>\n",
       "      <td>332.186</td>\n",
       "      <td>2.0</td>\n",
       "      <td>0.0</td>\n",
       "      <td>0.0</td>\n",
       "      <td>0.0</td>\n",
       "    </tr>\n",
       "    <tr>\n",
       "      <th>2935039</th>\n",
       "      <td>61.4936</td>\n",
       "      <td>0.074816</td>\n",
       "      <td>99.7825</td>\n",
       "      <td>100.5490</td>\n",
       "      <td>67.1754</td>\n",
       "      <td>74.4613</td>\n",
       "      <td>60.4183</td>\n",
       "      <td>54.7721</td>\n",
       "      <td>76.1788</td>\n",
       "      <td>0.448735</td>\n",
       "      <td>...</td>\n",
       "      <td>859.743</td>\n",
       "      <td>859.419</td>\n",
       "      <td>280.982</td>\n",
       "      <td>272.163</td>\n",
       "      <td>332.058</td>\n",
       "      <td>332.186</td>\n",
       "      <td>2.0</td>\n",
       "      <td>0.0</td>\n",
       "      <td>0.0</td>\n",
       "      <td>0.0</td>\n",
       "    </tr>\n",
       "  </tbody>\n",
       "</table>\n",
       "<p>2935040 rows × 23 columns</p>\n",
       "</div>"
      ],
      "text/plain": [
       "         건조 1존 OP   건조 2존 OP  건조로 온도 1 Zone  건조로 온도 2 Zone      세정기  소입1존 OP  소입2존 OP  소입3존 OP  소입4존 OP  소입로 CP 값  ...  소입로 온도 3 Zone  소입로 온도 4 Zone  솔트 컨베이어 온도 1 Zone  솔트 컨베이어 온도 2 Zone  솔트조 온도 1 Zone  솔트조 온도 2 Zone  건조_error  세정_error  소입_error  솔트_error\n",
       "0         75.9607  29.596700        98.7825        99.2001  68.4275  75.6285  61.1314  51.8036  71.6125  0.450566  ...        859.991        859.731            294.721            272.599        328.740        328.869       2.0       0.0       0.0       2.0\n",
       "1         76.2665  32.172600        98.7825        99.2001  68.4889  70.9577  59.6177  51.8148  71.5936  0.450445  ...        859.991        859.731            294.781            272.661        328.740        328.869       2.0       0.0       0.0       2.0\n",
       "2         76.2216  29.828000        98.7825        99.2001  68.4275  75.5710  59.6774  51.8251  70.1123  0.450361  ...        859.991        859.793            294.781            272.661        328.740        328.869       2.0       0.0       0.0       2.0\n",
       "3         76.1841  29.867600        98.7918        99.1460  68.4999  75.2962  61.1979  51.8345  70.1451  0.450424  ...        859.991        859.793            294.781            272.722        328.740        328.929       2.0       0.0       0.0       2.0\n",
       "4         76.1841  29.867600        98.7918        99.1460  68.4999  75.2962  61.1979  51.8345  70.1451  0.450424  ...        859.991        859.793            294.842            272.722        328.800        328.929       2.0       0.0       0.0       2.0\n",
       "...           ...        ...            ...            ...      ...      ...      ...      ...      ...       ...  ...            ...            ...                ...                ...            ...            ...       ...       ...       ...       ...\n",
       "2935035   61.2937   0.093966        99.9056       100.4870  67.1140  71.8356  60.7118  50.3777  76.3514  0.447112  ...        859.930        859.419            280.798            272.102        332.058        332.247       2.0       0.0       0.0       0.0\n",
       "2935036   61.7260   0.283887        99.8440       100.4870  67.1140  77.1783  60.6722  55.0392  76.3017  0.447982  ...        859.743        859.419            280.859            272.163        332.058        332.247       2.0       0.0       0.0       0.0\n",
       "2935037   61.6784   0.205745        99.7825       100.4870  67.1140  73.1729  62.1574  56.4989  76.2566  0.448688  ...        859.681        859.419            280.859            272.163        332.058        332.186       2.0       0.0       0.0       0.0\n",
       "2935038   61.5148   0.136414        99.8440       100.4870  67.1140  73.8443  62.0722  54.8139  76.2158  0.448501  ...        859.743        859.419            280.921            272.163        332.058        332.186       2.0       0.0       0.0       0.0\n",
       "2935039   61.4936   0.074816        99.7825       100.5490  67.1754  74.4613  60.4183  54.7721  76.1788  0.448735  ...        859.743        859.419            280.982            272.163        332.058        332.186       2.0       0.0       0.0       0.0\n",
       "\n",
       "[2935040 rows x 23 columns]"
      ]
     },
     "execution_count": 9,
     "metadata": {},
     "output_type": "execute_result"
    }
   ],
   "source": [
    "df"
   ]
  },
  {
   "cell_type": "code",
   "execution_count": 10,
   "metadata": {},
   "outputs": [],
   "source": [
    "drying_df = df[[column for column in df.columns if '건조'  in column]]\n",
    "cleaning_df =df[[column for column in df.columns if '세정'  in column]]\n",
    "quenching_df = df[[column for column in df.columns if '소입'  in column]]\n",
    "salt_df = df[[column for column in df.columns if '솔트'  in column]]\n",
    "\n",
    "drying_normal = drying_df[drying_df['건조_error']==0].copy()\n",
    "drying_abnormal = drying_df[drying_df['건조_error']>0].copy()\n",
    "cleaning_normal = cleaning_df[cleaning_df['세정_error']==0].copy()\n",
    "cleaning_abnormal = cleaning_df[cleaning_df['세정_error']>0].copy()\n",
    "quenching_normal = quenching_df[quenching_df['소입_error']==0].copy()\n",
    "quenching_abnormal = quenching_df[quenching_df['소입_error']>0].copy()\n",
    "salt_normal = salt_df[salt_df['솔트_error']==0].copy()\n",
    "salt_abnormal = salt_df[salt_df['솔트_error']>0].copy()\n",
    "\n",
    "df_list = [drying_normal, drying_abnormal, cleaning_normal, cleaning_abnormal, quenching_normal, quenching_abnormal, salt_normal, salt_abnormal]\n",
    "\n",
    "for idx, df in enumerate(df_list):\n",
    "    df_list[idx].drop(columns=[column for column in df.columns if 'error' in column], inplace=True)\n",
    "    df_list[idx].reset_index(drop=True, inplace=True)"
   ]
  },
  {
   "cell_type": "markdown",
   "metadata": {},
   "source": [
    "#### Normalization"
   ]
  },
  {
   "cell_type": "code",
   "execution_count": 11,
   "metadata": {},
   "outputs": [],
   "source": [
    "drying_scaler = preprocessing.MinMaxScaler()\n",
    "cleaning_scaler = preprocessing.MinMaxScaler()\n",
    "quenching_scaler = preprocessing.MinMaxScaler()\n",
    "salt_scaler = preprocessing.MinMaxScaler()\n",
    "\n",
    "scaler_list = [drying_scaler, cleaning_scaler, quenching_scaler, salt_scaler]"
   ]
  },
  {
   "cell_type": "code",
   "execution_count": 12,
   "metadata": {},
   "outputs": [],
   "source": [
    "for idx, df in enumerate(df_list):\n",
    "    if not idx%2:\n",
    "        x = df.values\n",
    "        x_scaled = scaler_list[idx//2].fit_transform(x)\n",
    "        df_list[idx] = pd.DataFrame(x_scaled)\n",
    "    elif idx%2:\n",
    "        x = df.values\n",
    "        x_scaled = scaler_list[idx//2].transform(x)\n",
    "        df_list[idx] = pd.DataFrame(x_scaled)"
   ]
  },
  {
   "cell_type": "markdown",
   "metadata": {},
   "source": [
    "#### Windows"
   ]
  },
  {
   "cell_type": "code",
   "execution_count": 13,
   "metadata": {},
   "outputs": [],
   "source": [
    "# window_size = 12\n",
    "\n",
    "# window_drying_normal=df_list[0].values[np.arange(window_size)[None, :] + np.arange(df_list[0].shape[0]-window_size)[:, None]] \n",
    "# window_drying_abnormal=df_list[1].values[np.arange(window_size)[None, :] + np.arange(df_list[1].shape[0]-window_size)[:, None]] \n",
    "# window_cleaning_normal=df_list[2].values[np.arange(window_size)[None, :] + np.arange(df_list[2].shape[0]-window_size)[:, None]] \n",
    "# window_cleaning_abnormal=df_list[3].values[np.arange(window_size)[None, :] + np.arange(df_list[3].shape[0]-window_size)[:, None]] \n",
    "# window_quenching_normal=df_list[4].values[np.arange(window_size)[None, :] + np.arange(df_list[4].shape[0]-window_size)[:, None]] \n",
    "# window_quenching_abnormal=df_list[5].values[np.arange(window_size)[None, :] + np.arange(df_list[5].shape[0]-window_size)[:, None]] \n",
    "# window_salt_normal=df_list[6].values[np.arange(window_size)[None, :] + np.arange(df_list[6].shape[0]-window_size)[:, None]] \n",
    "# window_salt_abnormal=df_list[7].values[np.arange(window_size)[None, :] + np.arange(df_list[7].shape[0]-window_size)[:, None]]\n"
   ]
  },
  {
   "cell_type": "code",
   "execution_count": 14,
   "metadata": {},
   "outputs": [],
   "source": [
    "window_size = 12\n",
    "\n",
    "window_normal_list = []\n",
    "window_abnormal_list = []\n",
    "\n",
    "for idx, scaled_df in enumerate(df_list):\n",
    "    if not idx%2:\n",
    "        window_normal_list.append(df_list[idx].values[np.arange(window_size)[None, :] + np.arange(df_list[idx].shape[0]-window_size)[:, None]])\n",
    "    elif idx%2:\n",
    "        window_abnormal_list.append(df_list[idx].values[np.arange(window_size)[None, :] + np.arange(df_list[idx].shape[0]-window_size)[:, None]])"
   ]
  },
  {
   "cell_type": "markdown",
   "metadata": {},
   "source": [
    "#### Training"
   ]
  },
  {
   "cell_type": "code",
   "execution_count": 15,
   "metadata": {},
   "outputs": [],
   "source": [
    "# BATCH_SIZE = 128\n",
    "# N_EPOCHS = 100\n",
    "# hidden_size = 100\n",
    "\n",
    "# # set input size\n",
    "# drying_w_size = window_drying_normal.shape[1] * window_drying_normal.shape[2]\n",
    "# drying_z_size = window_drying_normal.shape[1] * hidden_size\n",
    "# cleaning_w_size = window_cleaning_normal.shape[1] * window_cleaning_normal.shape[2]\n",
    "# cleaning_z_size = window_cleaning_normal.shape[1] * hidden_size\n",
    "# quenching_w_size = window_quenching_normal.shape[1] * window_quenching_normal.shape[2]\n",
    "# quenching_z_size = window_quenching_normal.shape[1] * hidden_size\n",
    "# salt_w_size = window_salt_normal.shape[1] * window_salt_normal.shape[2]\n",
    "# salt_z_size = window_salt_normal.shape[1] * hidden_size\n",
    "\n",
    "# # data split\n",
    "# window_drying_normal_train = window_drying_normal[:int(np.floor(.8 *  window_drying_normal.shape[0]))]\n",
    "# window_drying_normal_val = window_drying_normal[int(np.floor(.8 *  window_drying_normal.shape[0])):int(np.floor(window_drying_normal.shape[0]))]\n",
    "# window_cleaning_normal_train = window_cleaning_normal[:int(np.floor(.8 *  window_cleaning_normal.shape[0]))]\n",
    "# window_cleaning_normal_val = window_cleaning_normal[int(np.floor(.8 *  window_cleaning_normal.shape[0])):int(np.floor(window_cleaning_normal.shape[0]))]\n",
    "# window_quenching_normal_train = window_quenching_normal[:int(np.floor(.8 *  window_quenching_normal.shape[0]))]\n",
    "# window_quenching_normal_val = window_quenching_normal[int(np.floor(.8 *  window_quenching_normal.shape[0])):int(np.floor(window_quenching_normal.shape[0]))]\n",
    "# window_salt_normal_train = window_salt_normal[:int(np.floor(.8 *  window_salt_normal.shape[0]))]\n",
    "# window_salt_normal_val = window_salt_normal[int(np.floor(.8 *  window_salt_normal.shape[0])):int(np.floor(window_salt_normal.shape[0]))]\n",
    "\n",
    "# window_normal_train_list = [window_drying_normal_train, window_cleaning_normal_train, window_quenching_normal_train, window_salt_normal_train]\n",
    "# window_normal_val_list = [window_drying_normal_val, window_cleaning_normal_val, window_quenching_normal_val, window_salt_normal_val]\n",
    "# window_abnormal_test_list = [window_drying_abnormal, window_cleaning_abnormal, window_quenching_abnormal, window_salt_abnormal]"
   ]
  },
  {
   "cell_type": "code",
   "execution_count": 16,
   "metadata": {},
   "outputs": [],
   "source": [
    "BATCH_SIZE = 7919\n",
    "N_EPOCHS = 100\n",
    "hidden_size = 100\n",
    "\n",
    "w_size_list = []\n",
    "z_size_list = []\n",
    "\n",
    "for window_normal in window_normal_list:\n",
    "    w_size_list.append(window_normal.shape[1] * window_normal.shape[2])\n",
    "    z_size_list.append(window_normal.shape[1] * hidden_size)\n",
    "\n",
    "# Data Split\n",
    "window_normal_train_list = []\n",
    "window_normal_val_list = []\n",
    "window_abnormal_test_list = window_abnormal_list.copy()\n",
    "\n",
    "for window_normal in window_normal_list:\n",
    "    window_normal_train_list.append(window_normal[:int(np.floor(.8 *  window_normal.shape[0]))])\n",
    "    window_normal_val_list.append(window_normal[int(np.floor(.8 *  window_normal.shape[0])):int(np.floor(window_normal.shape[0]))])"
   ]
  },
  {
   "cell_type": "code",
   "execution_count": 17,
   "metadata": {},
   "outputs": [],
   "source": [
    "# DataLoader\n",
    "\n",
    "train_loader_list = []\n",
    "val_loader_list = []\n",
    "test_loader_list = []\n",
    "\n",
    "for idx, window_normal_train in enumerate(window_normal_train_list):\n",
    "    train_loader = torch.utils.data.DataLoader(data_utils.TensorDataset(\n",
    "        torch.from_numpy(window_normal_train).float().view((window_normal_train.shape[0], w_size_list[idx]))\n",
    "    ), batch_size=BATCH_SIZE, shuffle=False, num_workers=0)\n",
    "\n",
    "    train_loader_list.append(train_loader)\n",
    "\n",
    "for idx, window_normal_val in enumerate(window_normal_val_list):\n",
    "    val_loader = torch.utils.data.DataLoader(data_utils.TensorDataset(\n",
    "        torch.from_numpy(window_normal_val).float().view(window_normal_val.shape[0], w_size_list[idx])\n",
    "    ), batch_size=BATCH_SIZE, shuffle=False, num_workers=0)\n",
    "\n",
    "    val_loader_list.append(val_loader)\n",
    "\n",
    "for idx, window_abnormal_test in enumerate(window_abnormal_test_list):\n",
    "    test_loader = torch.utils.data.DataLoader(data_utils.TensorDataset(\n",
    "        torch.from_numpy(window_abnormal_test).float().view(window_abnormal_test.shape[0], w_size_list[idx])\n",
    "    ), batch_size=BATCH_SIZE, shuffle=False, num_workers=0)\n",
    "\n",
    "    test_loader_list.append(test_loader)"
   ]
  },
  {
   "cell_type": "code",
   "execution_count": 18,
   "metadata": {},
   "outputs": [],
   "source": [
    "drying_model = USAD.UsadModel(w_size_list[0], z_size_list[0])\n",
    "drying_model = utils.to_device(drying_model, device)\n",
    "cleaning_model = USAD.UsadModel(w_size_list[1], z_size_list[1])\n",
    "cleaning_model = utils.to_device(cleaning_model, device)\n",
    "quenching_model = USAD.UsadModel(w_size_list[2], z_size_list[2])\n",
    "quenching_model = utils.to_device(quenching_model, device)\n",
    "salt_model = USAD.UsadModel(w_size_list[3], z_size_list[3])\n",
    "salt_model = utils.to_device(salt_model, device)"
   ]
  },
  {
   "cell_type": "code",
   "execution_count": 19,
   "metadata": {},
   "outputs": [
    {
     "ename": "KeyboardInterrupt",
     "evalue": "",
     "output_type": "error",
     "traceback": [
      "\u001b[0;31m---------------------------------------------------------------------------\u001b[0m",
      "\u001b[0;31mKeyboardInterrupt\u001b[0m                         Traceback (most recent call last)",
      "\u001b[1;32m/Users/leebyeonghwa/studyspace/KAMP/USADforPredictMaintnance.ipynb Cell 23\u001b[0m line \u001b[0;36m1\n\u001b[0;32m----> <a href='vscode-notebook-cell:/Users/leebyeonghwa/studyspace/KAMP/USADforPredictMaintnance.ipynb#Y116sZmlsZQ%3D%3D?line=0'>1</a>\u001b[0m drying_history \u001b[39m=\u001b[39m USAD\u001b[39m.\u001b[39;49mtraining(N_EPOCHS, drying_model, train_loader_list[\u001b[39m0\u001b[39;49m], val_loader_list[\u001b[39m0\u001b[39;49m])\n",
      "File \u001b[0;32m~/studyspace/KAMP/USAD.py:117\u001b[0m, in \u001b[0;36mtraining\u001b[0;34m(epochs, model, train_loader, val_loader, opt_func)\u001b[0m\n\u001b[1;32m    114\u001b[0m optimizer1\u001b[39m.\u001b[39mzero_grad()\n\u001b[1;32m    116\u001b[0m \u001b[39m# train AE2\u001b[39;00m\n\u001b[0;32m--> 117\u001b[0m loss1, loss2 \u001b[39m=\u001b[39m model\u001b[39m.\u001b[39;49mtrain_step(batch, epoch\u001b[39m+\u001b[39;49m\u001b[39m1\u001b[39;49m)\n\u001b[1;32m    118\u001b[0m loss2\u001b[39m.\u001b[39mbackward()\n\u001b[1;32m    119\u001b[0m optimizer2\u001b[39m.\u001b[39mstep()\n",
      "File \u001b[0;32m~/studyspace/KAMP/USAD.py:63\u001b[0m, in \u001b[0;36mUsadModel.train_step\u001b[0;34m(self, batch, n)\u001b[0m\n\u001b[1;32m     62\u001b[0m \u001b[39mdef\u001b[39;00m \u001b[39mtrain_step\u001b[39m(\u001b[39mself\u001b[39m, batch, n):\n\u001b[0;32m---> 63\u001b[0m     z \u001b[39m=\u001b[39m \u001b[39mself\u001b[39;49m\u001b[39m.\u001b[39;49mencoder(batch)\n\u001b[1;32m     64\u001b[0m     w1 \u001b[39m=\u001b[39m \u001b[39mself\u001b[39m\u001b[39m.\u001b[39mdecoder1(z)\n\u001b[1;32m     65\u001b[0m     w2 \u001b[39m=\u001b[39m \u001b[39mself\u001b[39m\u001b[39m.\u001b[39mdecoder2(z)\n",
      "File \u001b[0;32m~/.local/share/virtualenvs/KAMP-JyWOzC9O/lib/python3.11/site-packages/torch/nn/modules/module.py:1518\u001b[0m, in \u001b[0;36mModule._wrapped_call_impl\u001b[0;34m(self, *args, **kwargs)\u001b[0m\n\u001b[1;32m   1516\u001b[0m     \u001b[39mreturn\u001b[39;00m \u001b[39mself\u001b[39m\u001b[39m.\u001b[39m_compiled_call_impl(\u001b[39m*\u001b[39margs, \u001b[39m*\u001b[39m\u001b[39m*\u001b[39mkwargs)  \u001b[39m# type: ignore[misc]\u001b[39;00m\n\u001b[1;32m   1517\u001b[0m \u001b[39melse\u001b[39;00m:\n\u001b[0;32m-> 1518\u001b[0m     \u001b[39mreturn\u001b[39;00m \u001b[39mself\u001b[39;49m\u001b[39m.\u001b[39;49m_call_impl(\u001b[39m*\u001b[39;49margs, \u001b[39m*\u001b[39;49m\u001b[39m*\u001b[39;49mkwargs)\n",
      "File \u001b[0;32m~/.local/share/virtualenvs/KAMP-JyWOzC9O/lib/python3.11/site-packages/torch/nn/modules/module.py:1527\u001b[0m, in \u001b[0;36mModule._call_impl\u001b[0;34m(self, *args, **kwargs)\u001b[0m\n\u001b[1;32m   1522\u001b[0m \u001b[39m# If we don't have any hooks, we want to skip the rest of the logic in\u001b[39;00m\n\u001b[1;32m   1523\u001b[0m \u001b[39m# this function, and just call forward.\u001b[39;00m\n\u001b[1;32m   1524\u001b[0m \u001b[39mif\u001b[39;00m \u001b[39mnot\u001b[39;00m (\u001b[39mself\u001b[39m\u001b[39m.\u001b[39m_backward_hooks \u001b[39mor\u001b[39;00m \u001b[39mself\u001b[39m\u001b[39m.\u001b[39m_backward_pre_hooks \u001b[39mor\u001b[39;00m \u001b[39mself\u001b[39m\u001b[39m.\u001b[39m_forward_hooks \u001b[39mor\u001b[39;00m \u001b[39mself\u001b[39m\u001b[39m.\u001b[39m_forward_pre_hooks\n\u001b[1;32m   1525\u001b[0m         \u001b[39mor\u001b[39;00m _global_backward_pre_hooks \u001b[39mor\u001b[39;00m _global_backward_hooks\n\u001b[1;32m   1526\u001b[0m         \u001b[39mor\u001b[39;00m _global_forward_hooks \u001b[39mor\u001b[39;00m _global_forward_pre_hooks):\n\u001b[0;32m-> 1527\u001b[0m     \u001b[39mreturn\u001b[39;00m forward_call(\u001b[39m*\u001b[39;49margs, \u001b[39m*\u001b[39;49m\u001b[39m*\u001b[39;49mkwargs)\n\u001b[1;32m   1529\u001b[0m \u001b[39mtry\u001b[39;00m:\n\u001b[1;32m   1530\u001b[0m     result \u001b[39m=\u001b[39m \u001b[39mNone\u001b[39;00m\n",
      "File \u001b[0;32m~/studyspace/KAMP/USAD.py:25\u001b[0m, in \u001b[0;36mEncoder.forward\u001b[0;34m(self, w)\u001b[0m\n\u001b[1;32m     23\u001b[0m out \u001b[39m=\u001b[39m \u001b[39mself\u001b[39m\u001b[39m.\u001b[39mlinear2(out)\n\u001b[1;32m     24\u001b[0m out \u001b[39m=\u001b[39m \u001b[39mself\u001b[39m\u001b[39m.\u001b[39mrelu(out)\n\u001b[0;32m---> 25\u001b[0m out \u001b[39m=\u001b[39m \u001b[39mself\u001b[39;49m\u001b[39m.\u001b[39;49mlinear3(out)\n\u001b[1;32m     26\u001b[0m z \u001b[39m=\u001b[39m \u001b[39mself\u001b[39m\u001b[39m.\u001b[39mrelu(out)\n\u001b[1;32m     28\u001b[0m \u001b[39mreturn\u001b[39;00m z\n",
      "File \u001b[0;32m~/.local/share/virtualenvs/KAMP-JyWOzC9O/lib/python3.11/site-packages/torch/nn/modules/module.py:1518\u001b[0m, in \u001b[0;36mModule._wrapped_call_impl\u001b[0;34m(self, *args, **kwargs)\u001b[0m\n\u001b[1;32m   1516\u001b[0m     \u001b[39mreturn\u001b[39;00m \u001b[39mself\u001b[39m\u001b[39m.\u001b[39m_compiled_call_impl(\u001b[39m*\u001b[39margs, \u001b[39m*\u001b[39m\u001b[39m*\u001b[39mkwargs)  \u001b[39m# type: ignore[misc]\u001b[39;00m\n\u001b[1;32m   1517\u001b[0m \u001b[39melse\u001b[39;00m:\n\u001b[0;32m-> 1518\u001b[0m     \u001b[39mreturn\u001b[39;00m \u001b[39mself\u001b[39;49m\u001b[39m.\u001b[39;49m_call_impl(\u001b[39m*\u001b[39;49margs, \u001b[39m*\u001b[39;49m\u001b[39m*\u001b[39;49mkwargs)\n",
      "File \u001b[0;32m~/.local/share/virtualenvs/KAMP-JyWOzC9O/lib/python3.11/site-packages/torch/nn/modules/module.py:1527\u001b[0m, in \u001b[0;36mModule._call_impl\u001b[0;34m(self, *args, **kwargs)\u001b[0m\n\u001b[1;32m   1522\u001b[0m \u001b[39m# If we don't have any hooks, we want to skip the rest of the logic in\u001b[39;00m\n\u001b[1;32m   1523\u001b[0m \u001b[39m# this function, and just call forward.\u001b[39;00m\n\u001b[1;32m   1524\u001b[0m \u001b[39mif\u001b[39;00m \u001b[39mnot\u001b[39;00m (\u001b[39mself\u001b[39m\u001b[39m.\u001b[39m_backward_hooks \u001b[39mor\u001b[39;00m \u001b[39mself\u001b[39m\u001b[39m.\u001b[39m_backward_pre_hooks \u001b[39mor\u001b[39;00m \u001b[39mself\u001b[39m\u001b[39m.\u001b[39m_forward_hooks \u001b[39mor\u001b[39;00m \u001b[39mself\u001b[39m\u001b[39m.\u001b[39m_forward_pre_hooks\n\u001b[1;32m   1525\u001b[0m         \u001b[39mor\u001b[39;00m _global_backward_pre_hooks \u001b[39mor\u001b[39;00m _global_backward_hooks\n\u001b[1;32m   1526\u001b[0m         \u001b[39mor\u001b[39;00m _global_forward_hooks \u001b[39mor\u001b[39;00m _global_forward_pre_hooks):\n\u001b[0;32m-> 1527\u001b[0m     \u001b[39mreturn\u001b[39;00m forward_call(\u001b[39m*\u001b[39;49margs, \u001b[39m*\u001b[39;49m\u001b[39m*\u001b[39;49mkwargs)\n\u001b[1;32m   1529\u001b[0m \u001b[39mtry\u001b[39;00m:\n\u001b[1;32m   1530\u001b[0m     result \u001b[39m=\u001b[39m \u001b[39mNone\u001b[39;00m\n",
      "File \u001b[0;32m~/.local/share/virtualenvs/KAMP-JyWOzC9O/lib/python3.11/site-packages/torch/nn/modules/linear.py:114\u001b[0m, in \u001b[0;36mLinear.forward\u001b[0;34m(self, input)\u001b[0m\n\u001b[1;32m    113\u001b[0m \u001b[39mdef\u001b[39;00m \u001b[39mforward\u001b[39m(\u001b[39mself\u001b[39m, \u001b[39minput\u001b[39m: Tensor) \u001b[39m-\u001b[39m\u001b[39m>\u001b[39m Tensor:\n\u001b[0;32m--> 114\u001b[0m     \u001b[39mreturn\u001b[39;00m F\u001b[39m.\u001b[39;49mlinear(\u001b[39minput\u001b[39;49m, \u001b[39mself\u001b[39;49m\u001b[39m.\u001b[39;49mweight, \u001b[39mself\u001b[39;49m\u001b[39m.\u001b[39;49mbias)\n",
      "\u001b[0;31mKeyboardInterrupt\u001b[0m: "
     ]
    }
   ],
   "source": [
    "drying_history = USAD.training(N_EPOCHS, drying_model, train_loader_list[0], val_loader_list[0])"
   ]
  },
  {
   "cell_type": "code",
   "execution_count": 23,
   "metadata": {},
   "outputs": [
    {
     "name": "stdout",
     "output_type": "stream",
     "text": [
      "Epoch [0], val_loss1: 0.0367, val_loss2: 0.0394\n",
      "Epoch [1], val_loss1: 0.0215, val_loss2: 0.0077\n",
      "Epoch [2], val_loss1: 0.0148, val_loss2: 0.0031\n",
      "Epoch [3], val_loss1: 0.0114, val_loss2: 0.0017\n",
      "Epoch [4], val_loss1: 0.0093, val_loss2: 0.0011\n",
      "Epoch [5], val_loss1: 0.0079, val_loss2: 0.0007\n",
      "Epoch [6], val_loss1: 0.0069, val_loss2: 0.0005\n",
      "Epoch [7], val_loss1: 0.0061, val_loss2: 0.0004\n",
      "Epoch [8], val_loss1: 0.0054, val_loss2: 0.0003\n",
      "Epoch [9], val_loss1: 0.0049, val_loss2: 0.0003\n",
      "Epoch [10], val_loss1: 0.0045, val_loss2: 0.0002\n",
      "Epoch [11], val_loss1: 0.0041, val_loss2: 0.0002\n",
      "Epoch [12], val_loss1: 0.0038, val_loss2: 0.0002\n",
      "Epoch [13], val_loss1: 0.0035, val_loss2: 0.0001\n",
      "Epoch [14], val_loss1: 0.0033, val_loss2: 0.0001\n",
      "Epoch [15], val_loss1: 0.0031, val_loss2: 0.0001\n",
      "Epoch [16], val_loss1: 0.0029, val_loss2: 0.0001\n",
      "Epoch [17], val_loss1: 0.0027, val_loss2: 0.0001\n",
      "Epoch [18], val_loss1: 0.0025, val_loss2: 0.0001\n",
      "Epoch [19], val_loss1: 0.0024, val_loss2: 0.0001\n",
      "Epoch [20], val_loss1: 0.0023, val_loss2: 0.0001\n",
      "Epoch [21], val_loss1: 0.0022, val_loss2: 0.0001\n",
      "Epoch [22], val_loss1: 0.0021, val_loss2: 0.0000\n",
      "Epoch [23], val_loss1: 0.0020, val_loss2: 0.0000\n",
      "Epoch [24], val_loss1: 0.0019, val_loss2: 0.0000\n",
      "Epoch [25], val_loss1: 0.0018, val_loss2: 0.0000\n",
      "Epoch [26], val_loss1: 0.0017, val_loss2: 0.0000\n",
      "Epoch [27], val_loss1: 0.0017, val_loss2: 0.0000\n",
      "Epoch [28], val_loss1: 0.0016, val_loss2: 0.0000\n",
      "Epoch [29], val_loss1: 0.0016, val_loss2: 0.0000\n",
      "Epoch [30], val_loss1: 0.0015, val_loss2: 0.0000\n",
      "Epoch [31], val_loss1: 0.0015, val_loss2: 0.0000\n",
      "Epoch [32], val_loss1: 0.0014, val_loss2: 0.0000\n",
      "Epoch [33], val_loss1: 0.0014, val_loss2: 0.0000\n",
      "Epoch [34], val_loss1: 0.0013, val_loss2: 0.0000\n",
      "Epoch [35], val_loss1: 0.0013, val_loss2: 0.0000\n",
      "Epoch [36], val_loss1: 0.0013, val_loss2: 0.0000\n",
      "Epoch [37], val_loss1: 0.0012, val_loss2: 0.0000\n",
      "Epoch [38], val_loss1: 0.0012, val_loss2: 0.0000\n",
      "Epoch [39], val_loss1: 0.0012, val_loss2: 0.0000\n",
      "Epoch [40], val_loss1: 0.0011, val_loss2: 0.0000\n",
      "Epoch [41], val_loss1: 0.0011, val_loss2: 0.0000\n",
      "Epoch [42], val_loss1: 0.0011, val_loss2: 0.0000\n",
      "Epoch [43], val_loss1: 0.0011, val_loss2: 0.0000\n",
      "Epoch [44], val_loss1: 0.0010, val_loss2: 0.0000\n",
      "Epoch [45], val_loss1: 0.0010, val_loss2: 0.0000\n",
      "Epoch [46], val_loss1: 0.0010, val_loss2: 0.0000\n",
      "Epoch [47], val_loss1: 0.0010, val_loss2: 0.0000\n",
      "Epoch [48], val_loss1: 0.0010, val_loss2: 0.0000\n",
      "Epoch [49], val_loss1: 0.0009, val_loss2: 0.0000\n",
      "Epoch [50], val_loss1: 0.0009, val_loss2: 0.0000\n",
      "Epoch [51], val_loss1: 0.0009, val_loss2: 0.0000\n",
      "Epoch [52], val_loss1: 0.0009, val_loss2: 0.0000\n",
      "Epoch [53], val_loss1: 0.0009, val_loss2: 0.0000\n",
      "Epoch [54], val_loss1: 0.0009, val_loss2: 0.0000\n",
      "Epoch [55], val_loss1: 0.0008, val_loss2: 0.0000\n",
      "Epoch [56], val_loss1: 0.0008, val_loss2: 0.0000\n",
      "Epoch [57], val_loss1: 0.0008, val_loss2: 0.0000\n",
      "Epoch [58], val_loss1: 0.0008, val_loss2: 0.0000\n",
      "Epoch [59], val_loss1: 0.0008, val_loss2: 0.0000\n",
      "Epoch [60], val_loss1: 0.0008, val_loss2: 0.0000\n",
      "Epoch [61], val_loss1: 0.0008, val_loss2: 0.0000\n",
      "Epoch [62], val_loss1: 0.0008, val_loss2: 0.0000\n",
      "Epoch [63], val_loss1: 0.0007, val_loss2: 0.0000\n",
      "Epoch [64], val_loss1: 0.0007, val_loss2: 0.0000\n",
      "Epoch [65], val_loss1: 0.0007, val_loss2: 0.0000\n",
      "Epoch [66], val_loss1: 0.0007, val_loss2: 0.0000\n",
      "Epoch [67], val_loss1: 0.0007, val_loss2: 0.0000\n",
      "Epoch [68], val_loss1: 0.0007, val_loss2: 0.0000\n",
      "Epoch [69], val_loss1: 0.0007, val_loss2: 0.0000\n",
      "Epoch [70], val_loss1: 0.0007, val_loss2: 0.0000\n",
      "Epoch [71], val_loss1: 0.0007, val_loss2: 0.0000\n",
      "Epoch [72], val_loss1: 0.0007, val_loss2: 0.0000\n",
      "Epoch [73], val_loss1: 0.0007, val_loss2: 0.0000\n",
      "Epoch [74], val_loss1: 0.0006, val_loss2: 0.0000\n",
      "Epoch [75], val_loss1: 0.0006, val_loss2: 0.0000\n",
      "Epoch [76], val_loss1: 0.0006, val_loss2: 0.0000\n",
      "Epoch [77], val_loss1: 0.0006, val_loss2: 0.0000\n",
      "Epoch [78], val_loss1: 0.0006, val_loss2: 0.0000\n",
      "Epoch [79], val_loss1: 0.0006, val_loss2: 0.0000\n",
      "Epoch [80], val_loss1: 0.0006, val_loss2: 0.0000\n",
      "Epoch [81], val_loss1: 0.0006, val_loss2: 0.0000\n",
      "Epoch [82], val_loss1: 0.0006, val_loss2: 0.0000\n",
      "Epoch [83], val_loss1: 0.0006, val_loss2: 0.0000\n",
      "Epoch [84], val_loss1: 0.0006, val_loss2: 0.0000\n",
      "Epoch [85], val_loss1: 0.0006, val_loss2: 0.0000\n",
      "Epoch [86], val_loss1: 0.0006, val_loss2: 0.0000\n",
      "Epoch [87], val_loss1: 0.0006, val_loss2: 0.0000\n",
      "Epoch [88], val_loss1: 0.0006, val_loss2: 0.0000\n",
      "Epoch [89], val_loss1: 0.0005, val_loss2: 0.0000\n",
      "Epoch [90], val_loss1: 0.0005, val_loss2: 0.0000\n",
      "Epoch [91], val_loss1: 0.0005, val_loss2: 0.0000\n",
      "Epoch [92], val_loss1: 0.0005, val_loss2: 0.0000\n",
      "Epoch [93], val_loss1: 0.0005, val_loss2: 0.0000\n",
      "Epoch [94], val_loss1: 0.0005, val_loss2: 0.0000\n",
      "Epoch [95], val_loss1: 0.0005, val_loss2: 0.0000\n",
      "Epoch [96], val_loss1: 0.0005, val_loss2: 0.0000\n",
      "Epoch [97], val_loss1: 0.0005, val_loss2: 0.0000\n",
      "Epoch [98], val_loss1: 0.0005, val_loss2: 0.0000\n",
      "Epoch [99], val_loss1: 0.0005, val_loss2: 0.0000\n"
     ]
    }
   ],
   "source": [
    "cleaning_history = USAD.training(N_EPOCHS, cleaning_model, train_loader_list[1], val_loader_list[1])"
   ]
  },
  {
   "cell_type": "code",
   "execution_count": 21,
   "metadata": {},
   "outputs": [
    {
     "name": "stdout",
     "output_type": "stream",
     "text": [
      "Epoch [0], val_loss1: 0.0041, val_loss2: 0.0044\n",
      "Epoch [1], val_loss1: 0.0038, val_loss2: 0.0004\n",
      "Epoch [2], val_loss1: 0.0041, val_loss2: -0.0006\n",
      "Epoch [3], val_loss1: 0.0021, val_loss2: -0.0001\n",
      "Epoch [4], val_loss1: 0.0020, val_loss2: -0.0003\n",
      "Epoch [5], val_loss1: 0.0016, val_loss2: -0.0002\n",
      "Epoch [6], val_loss1: 0.0011, val_loss2: -0.0001\n",
      "Epoch [7], val_loss1: 0.0009, val_loss2: -0.0000\n",
      "Epoch [8], val_loss1: 0.0012, val_loss2: -0.0002\n",
      "Epoch [9], val_loss1: 0.0008, val_loss2: -0.0000\n",
      "Epoch [10], val_loss1: 0.0007, val_loss2: -0.0001\n",
      "Epoch [11], val_loss1: 0.0008, val_loss2: -0.0002\n",
      "Epoch [12], val_loss1: 0.0006, val_loss2: -0.0000\n",
      "Epoch [13], val_loss1: 0.0006, val_loss2: -0.0000\n",
      "Epoch [14], val_loss1: 0.0006, val_loss2: -0.0001\n",
      "Epoch [15], val_loss1: 0.0007, val_loss2: -0.0001\n",
      "Epoch [16], val_loss1: 0.0004, val_loss2: -0.0000\n",
      "Epoch [17], val_loss1: 0.0006, val_loss2: -0.0001\n",
      "Epoch [18], val_loss1: 0.0005, val_loss2: -0.0001\n",
      "Epoch [19], val_loss1: 0.0005, val_loss2: -0.0001\n",
      "Epoch [20], val_loss1: 0.0004, val_loss2: -0.0001\n",
      "Epoch [21], val_loss1: 0.0005, val_loss2: -0.0001\n",
      "Epoch [22], val_loss1: 0.0008, val_loss2: -0.0002\n",
      "Epoch [23], val_loss1: 0.0006, val_loss2: -0.0002\n",
      "Epoch [24], val_loss1: 0.0004, val_loss2: -0.0001\n",
      "Epoch [25], val_loss1: 0.0003, val_loss2: -0.0000\n",
      "Epoch [26], val_loss1: 0.0005, val_loss2: -0.0001\n",
      "Epoch [27], val_loss1: 0.0003, val_loss2: -0.0000\n",
      "Epoch [28], val_loss1: 0.0004, val_loss2: -0.0001\n",
      "Epoch [29], val_loss1: 0.0006, val_loss2: -0.0002\n",
      "Epoch [30], val_loss1: 0.0005, val_loss2: -0.0002\n",
      "Epoch [31], val_loss1: 0.0003, val_loss2: -0.0000\n",
      "Epoch [32], val_loss1: 0.0003, val_loss2: -0.0001\n",
      "Epoch [33], val_loss1: 0.0004, val_loss2: -0.0001\n",
      "Epoch [34], val_loss1: 0.0003, val_loss2: -0.0001\n",
      "Epoch [35], val_loss1: 0.0003, val_loss2: -0.0001\n",
      "Epoch [36], val_loss1: 0.0004, val_loss2: -0.0001\n",
      "Epoch [37], val_loss1: 0.0003, val_loss2: -0.0001\n",
      "Epoch [38], val_loss1: 0.0004, val_loss2: -0.0001\n",
      "Epoch [39], val_loss1: 0.0002, val_loss2: -0.0000\n",
      "Epoch [40], val_loss1: 0.0002, val_loss2: -0.0000\n",
      "Epoch [41], val_loss1: 0.0003, val_loss2: -0.0001\n",
      "Epoch [42], val_loss1: 0.0002, val_loss2: -0.0000\n",
      "Epoch [43], val_loss1: 0.0003, val_loss2: -0.0001\n",
      "Epoch [44], val_loss1: 0.0003, val_loss2: -0.0001\n",
      "Epoch [45], val_loss1: 0.0002, val_loss2: -0.0000\n",
      "Epoch [46], val_loss1: 0.0002, val_loss2: -0.0000\n",
      "Epoch [47], val_loss1: 0.0002, val_loss2: -0.0000\n",
      "Epoch [48], val_loss1: 0.0003, val_loss2: -0.0001\n",
      "Epoch [49], val_loss1: 0.0002, val_loss2: -0.0000\n",
      "Epoch [50], val_loss1: 0.0001, val_loss2: -0.0000\n",
      "Epoch [51], val_loss1: 0.0002, val_loss2: -0.0001\n",
      "Epoch [52], val_loss1: 0.0002, val_loss2: -0.0000\n",
      "Epoch [53], val_loss1: 0.0002, val_loss2: -0.0000\n",
      "Epoch [54], val_loss1: 0.0002, val_loss2: -0.0000\n",
      "Epoch [55], val_loss1: 0.0001, val_loss2: -0.0000\n",
      "Epoch [56], val_loss1: 0.0001, val_loss2: -0.0000\n",
      "Epoch [57], val_loss1: 0.0001, val_loss2: -0.0000\n",
      "Epoch [58], val_loss1: 0.0001, val_loss2: -0.0000\n",
      "Epoch [59], val_loss1: 0.0001, val_loss2: -0.0000\n",
      "Epoch [60], val_loss1: 0.0001, val_loss2: -0.0000\n",
      "Epoch [61], val_loss1: 0.0001, val_loss2: -0.0000\n",
      "Epoch [62], val_loss1: 0.0001, val_loss2: -0.0000\n",
      "Epoch [63], val_loss1: 0.0001, val_loss2: -0.0000\n",
      "Epoch [64], val_loss1: 0.0001, val_loss2: -0.0000\n",
      "Epoch [65], val_loss1: 0.0001, val_loss2: -0.0000\n",
      "Epoch [66], val_loss1: 0.0001, val_loss2: -0.0000\n",
      "Epoch [67], val_loss1: 0.0001, val_loss2: -0.0000\n",
      "Epoch [68], val_loss1: 0.0001, val_loss2: -0.0000\n",
      "Epoch [69], val_loss1: 0.0001, val_loss2: -0.0000\n",
      "Epoch [70], val_loss1: 0.0001, val_loss2: -0.0000\n",
      "Epoch [71], val_loss1: 0.0001, val_loss2: -0.0000\n",
      "Epoch [72], val_loss1: 0.0001, val_loss2: -0.0000\n",
      "Epoch [73], val_loss1: 0.0002, val_loss2: -0.0000\n",
      "Epoch [74], val_loss1: 0.0001, val_loss2: -0.0000\n",
      "Epoch [75], val_loss1: 0.0001, val_loss2: -0.0000\n",
      "Epoch [76], val_loss1: 0.0001, val_loss2: -0.0000\n",
      "Epoch [77], val_loss1: 0.0002, val_loss2: -0.0001\n",
      "Epoch [78], val_loss1: 0.0001, val_loss2: -0.0000\n",
      "Epoch [79], val_loss1: 0.0001, val_loss2: -0.0000\n",
      "Epoch [80], val_loss1: 0.0001, val_loss2: -0.0000\n",
      "Epoch [81], val_loss1: 0.0001, val_loss2: -0.0000\n",
      "Epoch [82], val_loss1: 0.0001, val_loss2: -0.0000\n",
      "Epoch [83], val_loss1: 0.0001, val_loss2: -0.0000\n",
      "Epoch [84], val_loss1: 0.0002, val_loss2: -0.0000\n",
      "Epoch [85], val_loss1: 0.0001, val_loss2: -0.0000\n",
      "Epoch [86], val_loss1: 0.0001, val_loss2: -0.0000\n",
      "Epoch [87], val_loss1: 0.0001, val_loss2: -0.0000\n",
      "Epoch [88], val_loss1: 0.0001, val_loss2: -0.0000\n",
      "Epoch [89], val_loss1: 0.0001, val_loss2: -0.0000\n",
      "Epoch [90], val_loss1: 0.0001, val_loss2: -0.0000\n",
      "Epoch [91], val_loss1: 0.0001, val_loss2: -0.0000\n",
      "Epoch [92], val_loss1: 0.0001, val_loss2: -0.0000\n",
      "Epoch [93], val_loss1: 0.0001, val_loss2: -0.0000\n",
      "Epoch [94], val_loss1: 0.0001, val_loss2: -0.0000\n",
      "Epoch [95], val_loss1: 0.0001, val_loss2: -0.0000\n",
      "Epoch [96], val_loss1: 0.0001, val_loss2: -0.0000\n",
      "Epoch [97], val_loss1: 0.0001, val_loss2: -0.0000\n",
      "Epoch [98], val_loss1: 0.0001, val_loss2: -0.0000\n",
      "Epoch [99], val_loss1: 0.0001, val_loss2: -0.0000\n"
     ]
    }
   ],
   "source": [
    "quenching_history = USAD.training(N_EPOCHS, quenching_model, train_loader_list[2], val_loader_list[2])"
   ]
  },
  {
   "cell_type": "code",
   "execution_count": 22,
   "metadata": {},
   "outputs": [
    {
     "name": "stdout",
     "output_type": "stream",
     "text": [
      "Epoch [0], val_loss1: 0.0123, val_loss2: 0.0134\n",
      "Epoch [1], val_loss1: 0.0114, val_loss2: 0.0023\n",
      "Epoch [2], val_loss1: 0.0084, val_loss2: 0.0008\n",
      "Epoch [3], val_loss1: 0.0111, val_loss2: -0.0014\n",
      "Epoch [4], val_loss1: 0.0057, val_loss2: -0.0005\n",
      "Epoch [5], val_loss1: 0.0049, val_loss2: -0.0007\n",
      "Epoch [6], val_loss1: 0.0049, val_loss2: -0.0011\n",
      "Epoch [7], val_loss1: 0.0044, val_loss2: -0.0008\n",
      "Epoch [8], val_loss1: 0.0046, val_loss2: -0.0011\n",
      "Epoch [9], val_loss1: 0.0034, val_loss2: -0.0007\n",
      "Epoch [10], val_loss1: 0.0030, val_loss2: -0.0006\n",
      "Epoch [11], val_loss1: 0.0026, val_loss2: -0.0005\n",
      "Epoch [12], val_loss1: 0.0024, val_loss2: -0.0004\n",
      "Epoch [13], val_loss1: 0.0028, val_loss2: -0.0007\n",
      "Epoch [14], val_loss1: 0.0020, val_loss2: -0.0004\n",
      "Epoch [15], val_loss1: 0.0023, val_loss2: -0.0006\n",
      "Epoch [16], val_loss1: 0.0018, val_loss2: -0.0004\n",
      "Epoch [17], val_loss1: 0.0020, val_loss2: -0.0005\n",
      "Epoch [18], val_loss1: 0.0018, val_loss2: -0.0004\n",
      "Epoch [19], val_loss1: 0.0015, val_loss2: -0.0003\n",
      "Epoch [20], val_loss1: 0.0015, val_loss2: -0.0004\n",
      "Epoch [21], val_loss1: 0.0013, val_loss2: -0.0003\n",
      "Epoch [22], val_loss1: 0.0013, val_loss2: -0.0003\n",
      "Epoch [23], val_loss1: 0.0012, val_loss2: -0.0003\n",
      "Epoch [24], val_loss1: 0.0013, val_loss2: -0.0003\n",
      "Epoch [25], val_loss1: 0.0011, val_loss2: -0.0002\n",
      "Epoch [26], val_loss1: 0.0011, val_loss2: -0.0003\n",
      "Epoch [27], val_loss1: 0.0011, val_loss2: -0.0003\n",
      "Epoch [28], val_loss1: 0.0010, val_loss2: -0.0003\n",
      "Epoch [29], val_loss1: 0.0010, val_loss2: -0.0002\n",
      "Epoch [30], val_loss1: 0.0010, val_loss2: -0.0003\n",
      "Epoch [31], val_loss1: 0.0010, val_loss2: -0.0003\n",
      "Epoch [32], val_loss1: 0.0009, val_loss2: -0.0002\n",
      "Epoch [33], val_loss1: 0.0009, val_loss2: -0.0002\n",
      "Epoch [34], val_loss1: 0.0008, val_loss2: -0.0002\n",
      "Epoch [35], val_loss1: 0.0008, val_loss2: -0.0002\n",
      "Epoch [36], val_loss1: 0.0009, val_loss2: -0.0003\n",
      "Epoch [37], val_loss1: 0.0007, val_loss2: -0.0002\n",
      "Epoch [38], val_loss1: 0.0008, val_loss2: -0.0002\n",
      "Epoch [39], val_loss1: 0.0007, val_loss2: -0.0002\n",
      "Epoch [40], val_loss1: 0.0007, val_loss2: -0.0002\n",
      "Epoch [41], val_loss1: 0.0007, val_loss2: -0.0002\n",
      "Epoch [42], val_loss1: 0.0006, val_loss2: -0.0002\n",
      "Epoch [43], val_loss1: 0.0006, val_loss2: -0.0002\n",
      "Epoch [44], val_loss1: 0.0006, val_loss2: -0.0002\n",
      "Epoch [45], val_loss1: 0.0006, val_loss2: -0.0002\n",
      "Epoch [46], val_loss1: 0.0006, val_loss2: -0.0002\n",
      "Epoch [47], val_loss1: 0.0006, val_loss2: -0.0002\n",
      "Epoch [48], val_loss1: 0.0006, val_loss2: -0.0002\n",
      "Epoch [49], val_loss1: 0.0006, val_loss2: -0.0001\n",
      "Epoch [50], val_loss1: 0.0005, val_loss2: -0.0001\n",
      "Epoch [51], val_loss1: 0.0005, val_loss2: -0.0001\n",
      "Epoch [52], val_loss1: 0.0005, val_loss2: -0.0001\n",
      "Epoch [53], val_loss1: 0.0005, val_loss2: -0.0001\n",
      "Epoch [54], val_loss1: 0.0005, val_loss2: -0.0001\n",
      "Epoch [55], val_loss1: 0.0005, val_loss2: -0.0001\n",
      "Epoch [56], val_loss1: 0.0005, val_loss2: -0.0001\n",
      "Epoch [57], val_loss1: 0.0005, val_loss2: -0.0001\n",
      "Epoch [58], val_loss1: 0.0005, val_loss2: -0.0001\n",
      "Epoch [59], val_loss1: 0.0004, val_loss2: -0.0001\n",
      "Epoch [60], val_loss1: 0.0004, val_loss2: -0.0001\n",
      "Epoch [61], val_loss1: 0.0004, val_loss2: -0.0001\n",
      "Epoch [62], val_loss1: 0.0005, val_loss2: -0.0001\n",
      "Epoch [63], val_loss1: 0.0005, val_loss2: -0.0001\n",
      "Epoch [64], val_loss1: 0.0004, val_loss2: -0.0001\n",
      "Epoch [65], val_loss1: 0.0004, val_loss2: -0.0001\n",
      "Epoch [66], val_loss1: 0.0004, val_loss2: -0.0001\n",
      "Epoch [67], val_loss1: 0.0004, val_loss2: -0.0001\n",
      "Epoch [68], val_loss1: 0.0004, val_loss2: -0.0001\n",
      "Epoch [69], val_loss1: 0.0004, val_loss2: -0.0001\n",
      "Epoch [70], val_loss1: 0.0004, val_loss2: -0.0001\n",
      "Epoch [71], val_loss1: 0.0004, val_loss2: -0.0001\n",
      "Epoch [72], val_loss1: 0.0004, val_loss2: -0.0001\n",
      "Epoch [73], val_loss1: 0.0004, val_loss2: -0.0001\n",
      "Epoch [74], val_loss1: 0.0004, val_loss2: -0.0001\n",
      "Epoch [75], val_loss1: 0.0004, val_loss2: -0.0001\n",
      "Epoch [76], val_loss1: 0.0004, val_loss2: -0.0001\n",
      "Epoch [77], val_loss1: 0.0003, val_loss2: -0.0001\n",
      "Epoch [78], val_loss1: 0.0003, val_loss2: -0.0001\n",
      "Epoch [79], val_loss1: 0.0003, val_loss2: -0.0001\n",
      "Epoch [80], val_loss1: 0.0003, val_loss2: -0.0001\n",
      "Epoch [81], val_loss1: 0.0003, val_loss2: -0.0001\n",
      "Epoch [82], val_loss1: 0.0003, val_loss2: -0.0001\n",
      "Epoch [83], val_loss1: 0.0003, val_loss2: -0.0001\n",
      "Epoch [84], val_loss1: 0.0003, val_loss2: -0.0001\n",
      "Epoch [85], val_loss1: 0.0003, val_loss2: -0.0001\n",
      "Epoch [86], val_loss1: 0.0003, val_loss2: -0.0001\n",
      "Epoch [87], val_loss1: 0.0003, val_loss2: -0.0001\n",
      "Epoch [88], val_loss1: 0.0003, val_loss2: -0.0001\n",
      "Epoch [89], val_loss1: 0.0003, val_loss2: -0.0001\n",
      "Epoch [90], val_loss1: 0.0003, val_loss2: -0.0001\n",
      "Epoch [91], val_loss1: 0.0003, val_loss2: -0.0001\n",
      "Epoch [92], val_loss1: 0.0003, val_loss2: -0.0001\n",
      "Epoch [93], val_loss1: 0.0003, val_loss2: -0.0001\n",
      "Epoch [94], val_loss1: 0.0003, val_loss2: -0.0001\n",
      "Epoch [95], val_loss1: 0.0003, val_loss2: -0.0001\n",
      "Epoch [96], val_loss1: 0.0003, val_loss2: -0.0001\n",
      "Epoch [97], val_loss1: 0.0003, val_loss2: -0.0001\n",
      "Epoch [98], val_loss1: 0.0003, val_loss2: -0.0001\n",
      "Epoch [99], val_loss1: 0.0003, val_loss2: -0.0001\n"
     ]
    }
   ],
   "source": [
    "salt_history = USAD.training(N_EPOCHS, salt_model, train_loader_list[3], val_loader_list[3])"
   ]
  },
  {
   "cell_type": "code",
   "execution_count": 24,
   "metadata": {},
   "outputs": [
    {
     "ename": "NameError",
     "evalue": "name 'drying_history' is not defined",
     "output_type": "error",
     "traceback": [
      "\u001b[0;31m---------------------------------------------------------------------------\u001b[0m",
      "\u001b[0;31mNameError\u001b[0m                                 Traceback (most recent call last)",
      "\u001b[1;32m/Users/leebyeonghwa/studyspace/KAMP/USADforPredictMaintnance.ipynb Cell 27\u001b[0m line \u001b[0;36m1\n\u001b[0;32m----> <a href='vscode-notebook-cell:/Users/leebyeonghwa/studyspace/KAMP/USADforPredictMaintnance.ipynb#Y132sZmlsZQ%3D%3D?line=0'>1</a>\u001b[0m utils\u001b[39m.\u001b[39mplot_history(drying_history)\n",
      "\u001b[0;31mNameError\u001b[0m: name 'drying_history' is not defined"
     ]
    }
   ],
   "source": [
    "utils.plot_history(drying_history)"
   ]
  },
  {
   "cell_type": "code",
   "execution_count": 45,
   "metadata": {},
   "outputs": [
    {
     "ename": "ValueError",
     "evalue": "Mime type rendering requires nbformat>=4.2.0 but it is not installed",
     "output_type": "error",
     "traceback": [
      "\u001b[0;31m---------------------------------------------------------------------------\u001b[0m",
      "\u001b[0;31mValueError\u001b[0m                                Traceback (most recent call last)",
      "File \u001b[0;32m~/.local/share/virtualenvs/KAMP-JyWOzC9O/lib/python3.11/site-packages/IPython/core/formatters.py:922\u001b[0m, in \u001b[0;36mIPythonDisplayFormatter.__call__\u001b[0;34m(self, obj)\u001b[0m\n\u001b[1;32m    920\u001b[0m method \u001b[39m=\u001b[39m get_real_method(obj, \u001b[39mself\u001b[39m\u001b[39m.\u001b[39mprint_method)\n\u001b[1;32m    921\u001b[0m \u001b[39mif\u001b[39;00m method \u001b[39mis\u001b[39;00m \u001b[39mnot\u001b[39;00m \u001b[39mNone\u001b[39;00m:\n\u001b[0;32m--> 922\u001b[0m     method()\n\u001b[1;32m    923\u001b[0m     \u001b[39mreturn\u001b[39;00m \u001b[39mTrue\u001b[39;00m\n",
      "File \u001b[0;32m~/.local/share/virtualenvs/KAMP-JyWOzC9O/lib/python3.11/site-packages/plotly/basedatatypes.py:832\u001b[0m, in \u001b[0;36mBaseFigure._ipython_display_\u001b[0;34m(self)\u001b[0m\n\u001b[1;32m    829\u001b[0m \u001b[39mimport\u001b[39;00m \u001b[39mplotly\u001b[39;00m\u001b[39m.\u001b[39;00m\u001b[39mio\u001b[39;00m \u001b[39mas\u001b[39;00m \u001b[39mpio\u001b[39;00m\n\u001b[1;32m    831\u001b[0m \u001b[39mif\u001b[39;00m pio\u001b[39m.\u001b[39mrenderers\u001b[39m.\u001b[39mrender_on_display \u001b[39mand\u001b[39;00m pio\u001b[39m.\u001b[39mrenderers\u001b[39m.\u001b[39mdefault:\n\u001b[0;32m--> 832\u001b[0m     pio\u001b[39m.\u001b[39;49mshow(\u001b[39mself\u001b[39;49m)\n\u001b[1;32m    833\u001b[0m \u001b[39melse\u001b[39;00m:\n\u001b[1;32m    834\u001b[0m     \u001b[39mprint\u001b[39m(\u001b[39mrepr\u001b[39m(\u001b[39mself\u001b[39m))\n",
      "File \u001b[0;32m~/.local/share/virtualenvs/KAMP-JyWOzC9O/lib/python3.11/site-packages/plotly/io/_renderers.py:394\u001b[0m, in \u001b[0;36mshow\u001b[0;34m(fig, renderer, validate, **kwargs)\u001b[0m\n\u001b[1;32m    389\u001b[0m         \u001b[39mraise\u001b[39;00m \u001b[39mValueError\u001b[39;00m(\n\u001b[1;32m    390\u001b[0m             \u001b[39m\"\u001b[39m\u001b[39mMime type rendering requires ipython but it is not installed\u001b[39m\u001b[39m\"\u001b[39m\n\u001b[1;32m    391\u001b[0m         )\n\u001b[1;32m    393\u001b[0m     \u001b[39mif\u001b[39;00m \u001b[39mnot\u001b[39;00m nbformat \u001b[39mor\u001b[39;00m Version(nbformat\u001b[39m.\u001b[39m__version__) \u001b[39m<\u001b[39m Version(\u001b[39m\"\u001b[39m\u001b[39m4.2.0\u001b[39m\u001b[39m\"\u001b[39m):\n\u001b[0;32m--> 394\u001b[0m         \u001b[39mraise\u001b[39;00m \u001b[39mValueError\u001b[39;00m(\n\u001b[1;32m    395\u001b[0m             \u001b[39m\"\u001b[39m\u001b[39mMime type rendering requires nbformat>=4.2.0 but it is not installed\u001b[39m\u001b[39m\"\u001b[39m\n\u001b[1;32m    396\u001b[0m         )\n\u001b[1;32m    398\u001b[0m     ipython_display\u001b[39m.\u001b[39mdisplay(bundle, raw\u001b[39m=\u001b[39m\u001b[39mTrue\u001b[39;00m)\n\u001b[1;32m    400\u001b[0m \u001b[39m# external renderers\u001b[39;00m\n",
      "\u001b[0;31mValueError\u001b[0m: Mime type rendering requires nbformat>=4.2.0 but it is not installed"
     ]
    },
    {
     "data": {
      "application/vnd.plotly.v1+json": {
       "config": {
        "plotlyServerURL": "https://plot.ly"
       },
       "data": [
        {
         "type": "scatter",
         "x": [
          0,
          1,
          2,
          3,
          4,
          5,
          6,
          7,
          8,
          9,
          10,
          11,
          12,
          13,
          14,
          15,
          16,
          17,
          18,
          19,
          20,
          21,
          22,
          23,
          24,
          25,
          26,
          27,
          28,
          29,
          30,
          31,
          32,
          33,
          34,
          35,
          36,
          37,
          38,
          39,
          40,
          41,
          42,
          43,
          44,
          45,
          46,
          47,
          48,
          49,
          50,
          51,
          52,
          53,
          54,
          55,
          56,
          57,
          58,
          59,
          60,
          61,
          62,
          63,
          64,
          65,
          66,
          67,
          68,
          69,
          70,
          71,
          72,
          73,
          74,
          75,
          76,
          77,
          78,
          79,
          80,
          81,
          82,
          83,
          84,
          85,
          86,
          87,
          88,
          89,
          90,
          91,
          92,
          93,
          94,
          95,
          96,
          97,
          98,
          99
         ],
         "y": [
          0.004125768784433603,
          0.0037965753581374884,
          0.004126965068280697,
          0.0021017955150455236,
          0.002024770248681307,
          0.0015822602435946465,
          0.001135871047154069,
          0.0009479183354415,
          0.0012241482036188245,
          0.0007780508603900671,
          0.0007300976430997252,
          0.0008458395022898912,
          0.0006103428895585239,
          0.0006096981232985854,
          0.0006049499497748911,
          0.0006565625662915409,
          0.00044795332360081375,
          0.0005754265584982932,
          0.0005490140174515545,
          0.0004516446206253022,
          0.0004120748199056834,
          0.0004884155932813883,
          0.0007729037315584719,
          0.0005685999058187008,
          0.0003970569232478738,
          0.00033610171522013843,
          0.00047548700240440667,
          0.00027387726004235446,
          0.00035442798980511725,
          0.0005566799081861973,
          0.0005284134531393647,
          0.00028126442339271307,
          0.0003410946810618043,
          0.0003533142153173685,
          0.00032005758839659393,
          0.00033847373561002314,
          0.0003963802009820938,
          0.0003445365291554481,
          0.00035845927777700126,
          0.0001719342399155721,
          0.0002110054629156366,
          0.0003196227189619094,
          0.00016803760081529617,
          0.0002736308379098773,
          0.00026642309967428446,
          0.00023932701151352376,
          0.00020321199554018676,
          0.00018409313634037971,
          0.000257389823673293,
          0.00015650392742827535,
          0.00014602365263272077,
          0.0002152568631572649,
          0.00017566273163538426,
          0.0001533219328848645,
          0.0001660000707488507,
          0.0001433439610991627,
          0.0001290678046643734,
          0.00012287496065255255,
          0.00011870302841998637,
          0.00012185241939732805,
          0.00011358068877598271,
          0.00011567914043553174,
          0.00009829207556322217,
          0.00011529205221449956,
          0.00012466585030779243,
          0.0001161268082796596,
          0.00010148302681045607,
          0.00010489013948244974,
          0.0001137983999797143,
          0.0001386567746521905,
          0.0000944180937949568,
          0.00011484004062367603,
          0.00014779467892367393,
          0.0001601318217581138,
          0.00009543373744236305,
          0.00013569123984780163,
          0.00008467083534924313,
          0.00016177610086742789,
          0.00008603432797826827,
          0.00013359459990169853,
          0.00010045916133094579,
          0.00008367878763237968,
          0.0001019612027448602,
          0.00011994101078016683,
          0.00015837379032745957,
          0.00008578749111620709,
          0.00009231571311829612,
          0.00009902621968649328,
          0.00009002973820315674,
          0.00008370188879780471,
          0.00007736519910395145,
          0.00007555911724921316,
          0.00009925593622028828,
          0.00008563721348764375,
          0.00008879927918314934,
          0.00009128277451964095,
          0.00007531204755650833,
          0.00006441056029871106,
          0.000095863695605658,
          0.0000724831988918595
         ]
        },
        {
         "type": "scatter",
         "x": [
          0,
          1,
          2,
          3,
          4,
          5,
          6,
          7,
          8,
          9,
          10,
          11,
          12,
          13,
          14,
          15,
          16,
          17,
          18,
          19,
          20,
          21,
          22,
          23,
          24,
          25,
          26,
          27,
          28,
          29,
          30,
          31,
          32,
          33,
          34,
          35,
          36,
          37,
          38,
          39,
          40,
          41,
          42,
          43,
          44,
          45,
          46,
          47,
          48,
          49,
          50,
          51,
          52,
          53,
          54,
          55,
          56,
          57,
          58,
          59,
          60,
          61,
          62,
          63,
          64,
          65,
          66,
          67,
          68,
          69,
          70,
          71,
          72,
          73,
          74,
          75,
          76,
          77,
          78,
          79,
          80,
          81,
          82,
          83,
          84,
          85,
          86,
          87,
          88,
          89,
          90,
          91,
          92,
          93,
          94,
          95,
          96,
          97,
          98,
          99
         ],
         "y": [
          0.004449484869837761,
          0.00039279257180169225,
          -0.0005863618571311235,
          -0.00009947350190486759,
          -0.00028769587515853345,
          -0.00016553394380025566,
          -0.000050243077566847205,
          -0.000040159389754990116,
          -0.00023043771216180176,
          -0.00003383496368769556,
          -0.00006201503128977492,
          -0.00016265676822513342,
          -0.00004757379065267742,
          -0.000048053349019028246,
          -0.00006946695066289976,
          -0.00011487532174214721,
          -0.000022836755306343548,
          -0.00005631773092318326,
          -0.00011339980846969411,
          -0.00005353092637960799,
          -0.0000502541042806115,
          -0.00007921727956272662,
          -0.0002471536281518638,
          -0.0001722956367302686,
          -0.00007132775499485433,
          -0.00004701597208622843,
          -0.0001309095969190821,
          -0.000021798907255288213,
          -0.00007009330875007436,
          -0.0001806883083190769,
          -0.00016279838746413589,
          -0.000045229779061628506,
          -0.00006684029358439147,
          -0.0000904333355720155,
          -0.0000806486132205464,
          -0.00008051809709286317,
          -0.000119646436360199,
          -0.0000990956905297935,
          -0.0000984916987363249,
          -0.00001134485410148045,
          -0.000039336024201475084,
          -0.0000980606782832183,
          -0.000015064520994201303,
          -0.00007734287646599114,
          -0.00007326713239308447,
          -0.000049746780860004947,
          -0.000029181010177126154,
          -0.000028517320970422588,
          -0.0000664684412186034,
          -0.000018157878002966754,
          -0.000013468368706526235,
          -0.00005401449743658304,
          -0.00003027447746717371,
          -0.000023047350623528473,
          -0.00003166484384564683,
          -0.000022495209123007953,
          -0.000012542014701466542,
          -0.000011092618478869554,
          -0.000010876359738176689,
          -0.000012941573004354723,
          -0.00001166523634310579,
          -0.000016129166397149675,
          -0.0000073840706136252265,
          -0.000017314287106273696,
          -0.000021737154384027235,
          -0.00001639811489440035,
          -0.00001135742695623776,
          -0.000014435994671657681,
          -0.000016963427697191946,
          -0.000028558117264765315,
          -0.000011445365998952184,
          -0.000019838578737108037,
          -0.00003534213828970678,
          -0.00004505270771915093,
          -0.00001136606078944169,
          -0.000036833222111454234,
          -0.00000762465469961171,
          -0.00005135796527611092,
          -0.000010764859325718135,
          -0.000036920646380167454,
          -0.00001651022284931969,
          -0.000010066663890029304,
          -0.000015981451724655926,
          -0.000027375463105272502,
          -0.00004649342008633539,
          -0.000013425068573269527,
          -0.000014026082681084517,
          -0.000014645587725681253,
          -0.000017272846889682114,
          -0.00001570579297549557,
          -0.000009008251254272182,
          -0.000011089090548921376,
          -0.000018975209968630224,
          -0.00001463767057430232,
          -0.000017321564882877283,
          -0.000019110704670310952,
          -0.00000924775031307945,
          -0.000006508007118100068,
          -0.00002593420686025638,
          -0.00001206654906127369
         ]
        }
       ],
       "layout": {
        "template": {
         "data": {
          "bar": [
           {
            "error_x": {
             "color": "#2a3f5f"
            },
            "error_y": {
             "color": "#2a3f5f"
            },
            "marker": {
             "line": {
              "color": "#E5ECF6",
              "width": 0.5
             },
             "pattern": {
              "fillmode": "overlay",
              "size": 10,
              "solidity": 0.2
             }
            },
            "type": "bar"
           }
          ],
          "barpolar": [
           {
            "marker": {
             "line": {
              "color": "#E5ECF6",
              "width": 0.5
             },
             "pattern": {
              "fillmode": "overlay",
              "size": 10,
              "solidity": 0.2
             }
            },
            "type": "barpolar"
           }
          ],
          "carpet": [
           {
            "aaxis": {
             "endlinecolor": "#2a3f5f",
             "gridcolor": "white",
             "linecolor": "white",
             "minorgridcolor": "white",
             "startlinecolor": "#2a3f5f"
            },
            "baxis": {
             "endlinecolor": "#2a3f5f",
             "gridcolor": "white",
             "linecolor": "white",
             "minorgridcolor": "white",
             "startlinecolor": "#2a3f5f"
            },
            "type": "carpet"
           }
          ],
          "choropleth": [
           {
            "colorbar": {
             "outlinewidth": 0,
             "ticks": ""
            },
            "type": "choropleth"
           }
          ],
          "contour": [
           {
            "colorbar": {
             "outlinewidth": 0,
             "ticks": ""
            },
            "colorscale": [
             [
              0,
              "#0d0887"
             ],
             [
              0.1111111111111111,
              "#46039f"
             ],
             [
              0.2222222222222222,
              "#7201a8"
             ],
             [
              0.3333333333333333,
              "#9c179e"
             ],
             [
              0.4444444444444444,
              "#bd3786"
             ],
             [
              0.5555555555555556,
              "#d8576b"
             ],
             [
              0.6666666666666666,
              "#ed7953"
             ],
             [
              0.7777777777777778,
              "#fb9f3a"
             ],
             [
              0.8888888888888888,
              "#fdca26"
             ],
             [
              1,
              "#f0f921"
             ]
            ],
            "type": "contour"
           }
          ],
          "contourcarpet": [
           {
            "colorbar": {
             "outlinewidth": 0,
             "ticks": ""
            },
            "type": "contourcarpet"
           }
          ],
          "heatmap": [
           {
            "colorbar": {
             "outlinewidth": 0,
             "ticks": ""
            },
            "colorscale": [
             [
              0,
              "#0d0887"
             ],
             [
              0.1111111111111111,
              "#46039f"
             ],
             [
              0.2222222222222222,
              "#7201a8"
             ],
             [
              0.3333333333333333,
              "#9c179e"
             ],
             [
              0.4444444444444444,
              "#bd3786"
             ],
             [
              0.5555555555555556,
              "#d8576b"
             ],
             [
              0.6666666666666666,
              "#ed7953"
             ],
             [
              0.7777777777777778,
              "#fb9f3a"
             ],
             [
              0.8888888888888888,
              "#fdca26"
             ],
             [
              1,
              "#f0f921"
             ]
            ],
            "type": "heatmap"
           }
          ],
          "heatmapgl": [
           {
            "colorbar": {
             "outlinewidth": 0,
             "ticks": ""
            },
            "colorscale": [
             [
              0,
              "#0d0887"
             ],
             [
              0.1111111111111111,
              "#46039f"
             ],
             [
              0.2222222222222222,
              "#7201a8"
             ],
             [
              0.3333333333333333,
              "#9c179e"
             ],
             [
              0.4444444444444444,
              "#bd3786"
             ],
             [
              0.5555555555555556,
              "#d8576b"
             ],
             [
              0.6666666666666666,
              "#ed7953"
             ],
             [
              0.7777777777777778,
              "#fb9f3a"
             ],
             [
              0.8888888888888888,
              "#fdca26"
             ],
             [
              1,
              "#f0f921"
             ]
            ],
            "type": "heatmapgl"
           }
          ],
          "histogram": [
           {
            "marker": {
             "pattern": {
              "fillmode": "overlay",
              "size": 10,
              "solidity": 0.2
             }
            },
            "type": "histogram"
           }
          ],
          "histogram2d": [
           {
            "colorbar": {
             "outlinewidth": 0,
             "ticks": ""
            },
            "colorscale": [
             [
              0,
              "#0d0887"
             ],
             [
              0.1111111111111111,
              "#46039f"
             ],
             [
              0.2222222222222222,
              "#7201a8"
             ],
             [
              0.3333333333333333,
              "#9c179e"
             ],
             [
              0.4444444444444444,
              "#bd3786"
             ],
             [
              0.5555555555555556,
              "#d8576b"
             ],
             [
              0.6666666666666666,
              "#ed7953"
             ],
             [
              0.7777777777777778,
              "#fb9f3a"
             ],
             [
              0.8888888888888888,
              "#fdca26"
             ],
             [
              1,
              "#f0f921"
             ]
            ],
            "type": "histogram2d"
           }
          ],
          "histogram2dcontour": [
           {
            "colorbar": {
             "outlinewidth": 0,
             "ticks": ""
            },
            "colorscale": [
             [
              0,
              "#0d0887"
             ],
             [
              0.1111111111111111,
              "#46039f"
             ],
             [
              0.2222222222222222,
              "#7201a8"
             ],
             [
              0.3333333333333333,
              "#9c179e"
             ],
             [
              0.4444444444444444,
              "#bd3786"
             ],
             [
              0.5555555555555556,
              "#d8576b"
             ],
             [
              0.6666666666666666,
              "#ed7953"
             ],
             [
              0.7777777777777778,
              "#fb9f3a"
             ],
             [
              0.8888888888888888,
              "#fdca26"
             ],
             [
              1,
              "#f0f921"
             ]
            ],
            "type": "histogram2dcontour"
           }
          ],
          "mesh3d": [
           {
            "colorbar": {
             "outlinewidth": 0,
             "ticks": ""
            },
            "type": "mesh3d"
           }
          ],
          "parcoords": [
           {
            "line": {
             "colorbar": {
              "outlinewidth": 0,
              "ticks": ""
             }
            },
            "type": "parcoords"
           }
          ],
          "pie": [
           {
            "automargin": true,
            "type": "pie"
           }
          ],
          "scatter": [
           {
            "fillpattern": {
             "fillmode": "overlay",
             "size": 10,
             "solidity": 0.2
            },
            "type": "scatter"
           }
          ],
          "scatter3d": [
           {
            "line": {
             "colorbar": {
              "outlinewidth": 0,
              "ticks": ""
             }
            },
            "marker": {
             "colorbar": {
              "outlinewidth": 0,
              "ticks": ""
             }
            },
            "type": "scatter3d"
           }
          ],
          "scattercarpet": [
           {
            "marker": {
             "colorbar": {
              "outlinewidth": 0,
              "ticks": ""
             }
            },
            "type": "scattercarpet"
           }
          ],
          "scattergeo": [
           {
            "marker": {
             "colorbar": {
              "outlinewidth": 0,
              "ticks": ""
             }
            },
            "type": "scattergeo"
           }
          ],
          "scattergl": [
           {
            "marker": {
             "colorbar": {
              "outlinewidth": 0,
              "ticks": ""
             }
            },
            "type": "scattergl"
           }
          ],
          "scattermapbox": [
           {
            "marker": {
             "colorbar": {
              "outlinewidth": 0,
              "ticks": ""
             }
            },
            "type": "scattermapbox"
           }
          ],
          "scatterpolar": [
           {
            "marker": {
             "colorbar": {
              "outlinewidth": 0,
              "ticks": ""
             }
            },
            "type": "scatterpolar"
           }
          ],
          "scatterpolargl": [
           {
            "marker": {
             "colorbar": {
              "outlinewidth": 0,
              "ticks": ""
             }
            },
            "type": "scatterpolargl"
           }
          ],
          "scatterternary": [
           {
            "marker": {
             "colorbar": {
              "outlinewidth": 0,
              "ticks": ""
             }
            },
            "type": "scatterternary"
           }
          ],
          "surface": [
           {
            "colorbar": {
             "outlinewidth": 0,
             "ticks": ""
            },
            "colorscale": [
             [
              0,
              "#0d0887"
             ],
             [
              0.1111111111111111,
              "#46039f"
             ],
             [
              0.2222222222222222,
              "#7201a8"
             ],
             [
              0.3333333333333333,
              "#9c179e"
             ],
             [
              0.4444444444444444,
              "#bd3786"
             ],
             [
              0.5555555555555556,
              "#d8576b"
             ],
             [
              0.6666666666666666,
              "#ed7953"
             ],
             [
              0.7777777777777778,
              "#fb9f3a"
             ],
             [
              0.8888888888888888,
              "#fdca26"
             ],
             [
              1,
              "#f0f921"
             ]
            ],
            "type": "surface"
           }
          ],
          "table": [
           {
            "cells": {
             "fill": {
              "color": "#EBF0F8"
             },
             "line": {
              "color": "white"
             }
            },
            "header": {
             "fill": {
              "color": "#C8D4E3"
             },
             "line": {
              "color": "white"
             }
            },
            "type": "table"
           }
          ]
         },
         "layout": {
          "annotationdefaults": {
           "arrowcolor": "#2a3f5f",
           "arrowhead": 0,
           "arrowwidth": 1
          },
          "autotypenumbers": "strict",
          "coloraxis": {
           "colorbar": {
            "outlinewidth": 0,
            "ticks": ""
           }
          },
          "colorscale": {
           "diverging": [
            [
             0,
             "#8e0152"
            ],
            [
             0.1,
             "#c51b7d"
            ],
            [
             0.2,
             "#de77ae"
            ],
            [
             0.3,
             "#f1b6da"
            ],
            [
             0.4,
             "#fde0ef"
            ],
            [
             0.5,
             "#f7f7f7"
            ],
            [
             0.6,
             "#e6f5d0"
            ],
            [
             0.7,
             "#b8e186"
            ],
            [
             0.8,
             "#7fbc41"
            ],
            [
             0.9,
             "#4d9221"
            ],
            [
             1,
             "#276419"
            ]
           ],
           "sequential": [
            [
             0,
             "#0d0887"
            ],
            [
             0.1111111111111111,
             "#46039f"
            ],
            [
             0.2222222222222222,
             "#7201a8"
            ],
            [
             0.3333333333333333,
             "#9c179e"
            ],
            [
             0.4444444444444444,
             "#bd3786"
            ],
            [
             0.5555555555555556,
             "#d8576b"
            ],
            [
             0.6666666666666666,
             "#ed7953"
            ],
            [
             0.7777777777777778,
             "#fb9f3a"
            ],
            [
             0.8888888888888888,
             "#fdca26"
            ],
            [
             1,
             "#f0f921"
            ]
           ],
           "sequentialminus": [
            [
             0,
             "#0d0887"
            ],
            [
             0.1111111111111111,
             "#46039f"
            ],
            [
             0.2222222222222222,
             "#7201a8"
            ],
            [
             0.3333333333333333,
             "#9c179e"
            ],
            [
             0.4444444444444444,
             "#bd3786"
            ],
            [
             0.5555555555555556,
             "#d8576b"
            ],
            [
             0.6666666666666666,
             "#ed7953"
            ],
            [
             0.7777777777777778,
             "#fb9f3a"
            ],
            [
             0.8888888888888888,
             "#fdca26"
            ],
            [
             1,
             "#f0f921"
            ]
           ]
          },
          "colorway": [
           "#636efa",
           "#EF553B",
           "#00cc96",
           "#ab63fa",
           "#FFA15A",
           "#19d3f3",
           "#FF6692",
           "#B6E880",
           "#FF97FF",
           "#FECB52"
          ],
          "font": {
           "color": "#2a3f5f"
          },
          "geo": {
           "bgcolor": "white",
           "lakecolor": "white",
           "landcolor": "#E5ECF6",
           "showlakes": true,
           "showland": true,
           "subunitcolor": "white"
          },
          "hoverlabel": {
           "align": "left"
          },
          "hovermode": "closest",
          "mapbox": {
           "style": "light"
          },
          "paper_bgcolor": "white",
          "plot_bgcolor": "#E5ECF6",
          "polar": {
           "angularaxis": {
            "gridcolor": "white",
            "linecolor": "white",
            "ticks": ""
           },
           "bgcolor": "#E5ECF6",
           "radialaxis": {
            "gridcolor": "white",
            "linecolor": "white",
            "ticks": ""
           }
          },
          "scene": {
           "xaxis": {
            "backgroundcolor": "#E5ECF6",
            "gridcolor": "white",
            "gridwidth": 2,
            "linecolor": "white",
            "showbackground": true,
            "ticks": "",
            "zerolinecolor": "white"
           },
           "yaxis": {
            "backgroundcolor": "#E5ECF6",
            "gridcolor": "white",
            "gridwidth": 2,
            "linecolor": "white",
            "showbackground": true,
            "ticks": "",
            "zerolinecolor": "white"
           },
           "zaxis": {
            "backgroundcolor": "#E5ECF6",
            "gridcolor": "white",
            "gridwidth": 2,
            "linecolor": "white",
            "showbackground": true,
            "ticks": "",
            "zerolinecolor": "white"
           }
          },
          "shapedefaults": {
           "line": {
            "color": "#2a3f5f"
           }
          },
          "ternary": {
           "aaxis": {
            "gridcolor": "white",
            "linecolor": "white",
            "ticks": ""
           },
           "baxis": {
            "gridcolor": "white",
            "linecolor": "white",
            "ticks": ""
           },
           "bgcolor": "#E5ECF6",
           "caxis": {
            "gridcolor": "white",
            "linecolor": "white",
            "ticks": ""
           }
          },
          "title": {
           "x": 0.05
          },
          "xaxis": {
           "automargin": true,
           "gridcolor": "white",
           "linecolor": "white",
           "ticks": "",
           "title": {
            "standoff": 15
           },
           "zerolinecolor": "white",
           "zerolinewidth": 2
          },
          "yaxis": {
           "automargin": true,
           "gridcolor": "white",
           "linecolor": "white",
           "ticks": "",
           "title": {
            "standoff": 15
           },
           "zerolinecolor": "white",
           "zerolinewidth": 2
          }
         }
        }
       }
      },
      "text/html": [
       "<div>                        <script type=\"text/javascript\">window.PlotlyConfig = {MathJaxConfig: 'local'};</script>\n",
       "        <script charset=\"utf-8\" src=\"https://cdn.plot.ly/plotly-2.27.0.min.js\"></script>                <div id=\"f6d96eea-0ab2-46d8-b80c-67f9c01facd8\" class=\"plotly-graph-div\" style=\"height:100%; width:100%;\"></div>            <script type=\"text/javascript\">                                    window.PLOTLYENV=window.PLOTLYENV || {};                                    if (document.getElementById(\"f6d96eea-0ab2-46d8-b80c-67f9c01facd8\")) {                    Plotly.newPlot(                        \"f6d96eea-0ab2-46d8-b80c-67f9c01facd8\",                        [{\"x\":[0,1,2,3,4,5,6,7,8,9,10,11,12,13,14,15,16,17,18,19,20,21,22,23,24,25,26,27,28,29,30,31,32,33,34,35,36,37,38,39,40,41,42,43,44,45,46,47,48,49,50,51,52,53,54,55,56,57,58,59,60,61,62,63,64,65,66,67,68,69,70,71,72,73,74,75,76,77,78,79,80,81,82,83,84,85,86,87,88,89,90,91,92,93,94,95,96,97,98,99],\"y\":[0.004125768784433603,0.0037965753581374884,0.004126965068280697,0.0021017955150455236,0.002024770248681307,0.0015822602435946465,0.001135871047154069,0.0009479183354415,0.0012241482036188245,0.0007780508603900671,0.0007300976430997252,0.0008458395022898912,0.0006103428895585239,0.0006096981232985854,0.0006049499497748911,0.0006565625662915409,0.00044795332360081375,0.0005754265584982932,0.0005490140174515545,0.0004516446206253022,0.0004120748199056834,0.0004884155932813883,0.0007729037315584719,0.0005685999058187008,0.0003970569232478738,0.00033610171522013843,0.00047548700240440667,0.00027387726004235446,0.00035442798980511725,0.0005566799081861973,0.0005284134531393647,0.00028126442339271307,0.0003410946810618043,0.0003533142153173685,0.00032005758839659393,0.00033847373561002314,0.0003963802009820938,0.0003445365291554481,0.00035845927777700126,0.0001719342399155721,0.0002110054629156366,0.0003196227189619094,0.00016803760081529617,0.0002736308379098773,0.00026642309967428446,0.00023932701151352376,0.00020321199554018676,0.00018409313634037971,0.000257389823673293,0.00015650392742827535,0.00014602365263272077,0.0002152568631572649,0.00017566273163538426,0.0001533219328848645,0.0001660000707488507,0.0001433439610991627,0.0001290678046643734,0.00012287496065255255,0.00011870302841998637,0.00012185241939732805,0.00011358068877598271,0.00011567914043553174,9.829207556322217e-05,0.00011529205221449956,0.00012466585030779243,0.0001161268082796596,0.00010148302681045607,0.00010489013948244974,0.0001137983999797143,0.0001386567746521905,9.44180937949568e-05,0.00011484004062367603,0.00014779467892367393,0.0001601318217581138,9.543373744236305e-05,0.00013569123984780163,8.467083534924313e-05,0.00016177610086742789,8.603432797826827e-05,0.00013359459990169853,0.00010045916133094579,8.367878763237968e-05,0.0001019612027448602,0.00011994101078016683,0.00015837379032745957,8.578749111620709e-05,9.231571311829612e-05,9.902621968649328e-05,9.002973820315674e-05,8.370188879780471e-05,7.736519910395145e-05,7.555911724921316e-05,9.925593622028828e-05,8.563721348764375e-05,8.879927918314934e-05,9.128277451964095e-05,7.531204755650833e-05,6.441056029871106e-05,9.5863695605658e-05,7.24831988918595e-05],\"type\":\"scatter\"},{\"x\":[0,1,2,3,4,5,6,7,8,9,10,11,12,13,14,15,16,17,18,19,20,21,22,23,24,25,26,27,28,29,30,31,32,33,34,35,36,37,38,39,40,41,42,43,44,45,46,47,48,49,50,51,52,53,54,55,56,57,58,59,60,61,62,63,64,65,66,67,68,69,70,71,72,73,74,75,76,77,78,79,80,81,82,83,84,85,86,87,88,89,90,91,92,93,94,95,96,97,98,99],\"y\":[0.004449484869837761,0.00039279257180169225,-0.0005863618571311235,-9.947350190486759e-05,-0.00028769587515853345,-0.00016553394380025566,-5.0243077566847205e-05,-4.0159389754990116e-05,-0.00023043771216180176,-3.383496368769556e-05,-6.201503128977492e-05,-0.00016265676822513342,-4.757379065267742e-05,-4.8053349019028246e-05,-6.946695066289976e-05,-0.00011487532174214721,-2.2836755306343548e-05,-5.631773092318326e-05,-0.00011339980846969411,-5.353092637960799e-05,-5.02541042806115e-05,-7.921727956272662e-05,-0.0002471536281518638,-0.0001722956367302686,-7.132775499485433e-05,-4.701597208622843e-05,-0.0001309095969190821,-2.1798907255288213e-05,-7.009330875007436e-05,-0.0001806883083190769,-0.00016279838746413589,-4.5229779061628506e-05,-6.684029358439147e-05,-9.04333355720155e-05,-8.06486132205464e-05,-8.051809709286317e-05,-0.000119646436360199,-9.90956905297935e-05,-9.84916987363249e-05,-1.134485410148045e-05,-3.9336024201475084e-05,-9.80606782832183e-05,-1.5064520994201303e-05,-7.734287646599114e-05,-7.326713239308447e-05,-4.9746780860004947e-05,-2.9181010177126154e-05,-2.8517320970422588e-05,-6.64684412186034e-05,-1.8157878002966754e-05,-1.3468368706526235e-05,-5.401449743658304e-05,-3.027447746717371e-05,-2.3047350623528473e-05,-3.166484384564683e-05,-2.2495209123007953e-05,-1.2542014701466542e-05,-1.1092618478869554e-05,-1.0876359738176689e-05,-1.2941573004354723e-05,-1.166523634310579e-05,-1.6129166397149675e-05,-7.3840706136252265e-06,-1.7314287106273696e-05,-2.1737154384027235e-05,-1.639811489440035e-05,-1.135742695623776e-05,-1.4435994671657681e-05,-1.6963427697191946e-05,-2.8558117264765315e-05,-1.1445365998952184e-05,-1.9838578737108037e-05,-3.534213828970678e-05,-4.505270771915093e-05,-1.136606078944169e-05,-3.6833222111454234e-05,-7.62465469961171e-06,-5.135796527611092e-05,-1.0764859325718135e-05,-3.6920646380167454e-05,-1.651022284931969e-05,-1.0066663890029304e-05,-1.5981451724655926e-05,-2.7375463105272502e-05,-4.649342008633539e-05,-1.3425068573269527e-05,-1.4026082681084517e-05,-1.4645587725681253e-05,-1.7272846889682114e-05,-1.570579297549557e-05,-9.008251254272182e-06,-1.1089090548921376e-05,-1.8975209968630224e-05,-1.463767057430232e-05,-1.7321564882877283e-05,-1.9110704670310952e-05,-9.24775031307945e-06,-6.508007118100068e-06,-2.593420686025638e-05,-1.206654906127369e-05],\"type\":\"scatter\"}],                        {\"template\":{\"data\":{\"histogram2dcontour\":[{\"type\":\"histogram2dcontour\",\"colorbar\":{\"outlinewidth\":0,\"ticks\":\"\"},\"colorscale\":[[0.0,\"#0d0887\"],[0.1111111111111111,\"#46039f\"],[0.2222222222222222,\"#7201a8\"],[0.3333333333333333,\"#9c179e\"],[0.4444444444444444,\"#bd3786\"],[0.5555555555555556,\"#d8576b\"],[0.6666666666666666,\"#ed7953\"],[0.7777777777777778,\"#fb9f3a\"],[0.8888888888888888,\"#fdca26\"],[1.0,\"#f0f921\"]]}],\"choropleth\":[{\"type\":\"choropleth\",\"colorbar\":{\"outlinewidth\":0,\"ticks\":\"\"}}],\"histogram2d\":[{\"type\":\"histogram2d\",\"colorbar\":{\"outlinewidth\":0,\"ticks\":\"\"},\"colorscale\":[[0.0,\"#0d0887\"],[0.1111111111111111,\"#46039f\"],[0.2222222222222222,\"#7201a8\"],[0.3333333333333333,\"#9c179e\"],[0.4444444444444444,\"#bd3786\"],[0.5555555555555556,\"#d8576b\"],[0.6666666666666666,\"#ed7953\"],[0.7777777777777778,\"#fb9f3a\"],[0.8888888888888888,\"#fdca26\"],[1.0,\"#f0f921\"]]}],\"heatmap\":[{\"type\":\"heatmap\",\"colorbar\":{\"outlinewidth\":0,\"ticks\":\"\"},\"colorscale\":[[0.0,\"#0d0887\"],[0.1111111111111111,\"#46039f\"],[0.2222222222222222,\"#7201a8\"],[0.3333333333333333,\"#9c179e\"],[0.4444444444444444,\"#bd3786\"],[0.5555555555555556,\"#d8576b\"],[0.6666666666666666,\"#ed7953\"],[0.7777777777777778,\"#fb9f3a\"],[0.8888888888888888,\"#fdca26\"],[1.0,\"#f0f921\"]]}],\"heatmapgl\":[{\"type\":\"heatmapgl\",\"colorbar\":{\"outlinewidth\":0,\"ticks\":\"\"},\"colorscale\":[[0.0,\"#0d0887\"],[0.1111111111111111,\"#46039f\"],[0.2222222222222222,\"#7201a8\"],[0.3333333333333333,\"#9c179e\"],[0.4444444444444444,\"#bd3786\"],[0.5555555555555556,\"#d8576b\"],[0.6666666666666666,\"#ed7953\"],[0.7777777777777778,\"#fb9f3a\"],[0.8888888888888888,\"#fdca26\"],[1.0,\"#f0f921\"]]}],\"contourcarpet\":[{\"type\":\"contourcarpet\",\"colorbar\":{\"outlinewidth\":0,\"ticks\":\"\"}}],\"contour\":[{\"type\":\"contour\",\"colorbar\":{\"outlinewidth\":0,\"ticks\":\"\"},\"colorscale\":[[0.0,\"#0d0887\"],[0.1111111111111111,\"#46039f\"],[0.2222222222222222,\"#7201a8\"],[0.3333333333333333,\"#9c179e\"],[0.4444444444444444,\"#bd3786\"],[0.5555555555555556,\"#d8576b\"],[0.6666666666666666,\"#ed7953\"],[0.7777777777777778,\"#fb9f3a\"],[0.8888888888888888,\"#fdca26\"],[1.0,\"#f0f921\"]]}],\"surface\":[{\"type\":\"surface\",\"colorbar\":{\"outlinewidth\":0,\"ticks\":\"\"},\"colorscale\":[[0.0,\"#0d0887\"],[0.1111111111111111,\"#46039f\"],[0.2222222222222222,\"#7201a8\"],[0.3333333333333333,\"#9c179e\"],[0.4444444444444444,\"#bd3786\"],[0.5555555555555556,\"#d8576b\"],[0.6666666666666666,\"#ed7953\"],[0.7777777777777778,\"#fb9f3a\"],[0.8888888888888888,\"#fdca26\"],[1.0,\"#f0f921\"]]}],\"mesh3d\":[{\"type\":\"mesh3d\",\"colorbar\":{\"outlinewidth\":0,\"ticks\":\"\"}}],\"scatter\":[{\"fillpattern\":{\"fillmode\":\"overlay\",\"size\":10,\"solidity\":0.2},\"type\":\"scatter\"}],\"parcoords\":[{\"type\":\"parcoords\",\"line\":{\"colorbar\":{\"outlinewidth\":0,\"ticks\":\"\"}}}],\"scatterpolargl\":[{\"type\":\"scatterpolargl\",\"marker\":{\"colorbar\":{\"outlinewidth\":0,\"ticks\":\"\"}}}],\"bar\":[{\"error_x\":{\"color\":\"#2a3f5f\"},\"error_y\":{\"color\":\"#2a3f5f\"},\"marker\":{\"line\":{\"color\":\"#E5ECF6\",\"width\":0.5},\"pattern\":{\"fillmode\":\"overlay\",\"size\":10,\"solidity\":0.2}},\"type\":\"bar\"}],\"scattergeo\":[{\"type\":\"scattergeo\",\"marker\":{\"colorbar\":{\"outlinewidth\":0,\"ticks\":\"\"}}}],\"scatterpolar\":[{\"type\":\"scatterpolar\",\"marker\":{\"colorbar\":{\"outlinewidth\":0,\"ticks\":\"\"}}}],\"histogram\":[{\"marker\":{\"pattern\":{\"fillmode\":\"overlay\",\"size\":10,\"solidity\":0.2}},\"type\":\"histogram\"}],\"scattergl\":[{\"type\":\"scattergl\",\"marker\":{\"colorbar\":{\"outlinewidth\":0,\"ticks\":\"\"}}}],\"scatter3d\":[{\"type\":\"scatter3d\",\"line\":{\"colorbar\":{\"outlinewidth\":0,\"ticks\":\"\"}},\"marker\":{\"colorbar\":{\"outlinewidth\":0,\"ticks\":\"\"}}}],\"scattermapbox\":[{\"type\":\"scattermapbox\",\"marker\":{\"colorbar\":{\"outlinewidth\":0,\"ticks\":\"\"}}}],\"scatterternary\":[{\"type\":\"scatterternary\",\"marker\":{\"colorbar\":{\"outlinewidth\":0,\"ticks\":\"\"}}}],\"scattercarpet\":[{\"type\":\"scattercarpet\",\"marker\":{\"colorbar\":{\"outlinewidth\":0,\"ticks\":\"\"}}}],\"carpet\":[{\"aaxis\":{\"endlinecolor\":\"#2a3f5f\",\"gridcolor\":\"white\",\"linecolor\":\"white\",\"minorgridcolor\":\"white\",\"startlinecolor\":\"#2a3f5f\"},\"baxis\":{\"endlinecolor\":\"#2a3f5f\",\"gridcolor\":\"white\",\"linecolor\":\"white\",\"minorgridcolor\":\"white\",\"startlinecolor\":\"#2a3f5f\"},\"type\":\"carpet\"}],\"table\":[{\"cells\":{\"fill\":{\"color\":\"#EBF0F8\"},\"line\":{\"color\":\"white\"}},\"header\":{\"fill\":{\"color\":\"#C8D4E3\"},\"line\":{\"color\":\"white\"}},\"type\":\"table\"}],\"barpolar\":[{\"marker\":{\"line\":{\"color\":\"#E5ECF6\",\"width\":0.5},\"pattern\":{\"fillmode\":\"overlay\",\"size\":10,\"solidity\":0.2}},\"type\":\"barpolar\"}],\"pie\":[{\"automargin\":true,\"type\":\"pie\"}]},\"layout\":{\"autotypenumbers\":\"strict\",\"colorway\":[\"#636efa\",\"#EF553B\",\"#00cc96\",\"#ab63fa\",\"#FFA15A\",\"#19d3f3\",\"#FF6692\",\"#B6E880\",\"#FF97FF\",\"#FECB52\"],\"font\":{\"color\":\"#2a3f5f\"},\"hovermode\":\"closest\",\"hoverlabel\":{\"align\":\"left\"},\"paper_bgcolor\":\"white\",\"plot_bgcolor\":\"#E5ECF6\",\"polar\":{\"bgcolor\":\"#E5ECF6\",\"angularaxis\":{\"gridcolor\":\"white\",\"linecolor\":\"white\",\"ticks\":\"\"},\"radialaxis\":{\"gridcolor\":\"white\",\"linecolor\":\"white\",\"ticks\":\"\"}},\"ternary\":{\"bgcolor\":\"#E5ECF6\",\"aaxis\":{\"gridcolor\":\"white\",\"linecolor\":\"white\",\"ticks\":\"\"},\"baxis\":{\"gridcolor\":\"white\",\"linecolor\":\"white\",\"ticks\":\"\"},\"caxis\":{\"gridcolor\":\"white\",\"linecolor\":\"white\",\"ticks\":\"\"}},\"coloraxis\":{\"colorbar\":{\"outlinewidth\":0,\"ticks\":\"\"}},\"colorscale\":{\"sequential\":[[0.0,\"#0d0887\"],[0.1111111111111111,\"#46039f\"],[0.2222222222222222,\"#7201a8\"],[0.3333333333333333,\"#9c179e\"],[0.4444444444444444,\"#bd3786\"],[0.5555555555555556,\"#d8576b\"],[0.6666666666666666,\"#ed7953\"],[0.7777777777777778,\"#fb9f3a\"],[0.8888888888888888,\"#fdca26\"],[1.0,\"#f0f921\"]],\"sequentialminus\":[[0.0,\"#0d0887\"],[0.1111111111111111,\"#46039f\"],[0.2222222222222222,\"#7201a8\"],[0.3333333333333333,\"#9c179e\"],[0.4444444444444444,\"#bd3786\"],[0.5555555555555556,\"#d8576b\"],[0.6666666666666666,\"#ed7953\"],[0.7777777777777778,\"#fb9f3a\"],[0.8888888888888888,\"#fdca26\"],[1.0,\"#f0f921\"]],\"diverging\":[[0,\"#8e0152\"],[0.1,\"#c51b7d\"],[0.2,\"#de77ae\"],[0.3,\"#f1b6da\"],[0.4,\"#fde0ef\"],[0.5,\"#f7f7f7\"],[0.6,\"#e6f5d0\"],[0.7,\"#b8e186\"],[0.8,\"#7fbc41\"],[0.9,\"#4d9221\"],[1,\"#276419\"]]},\"xaxis\":{\"gridcolor\":\"white\",\"linecolor\":\"white\",\"ticks\":\"\",\"title\":{\"standoff\":15},\"zerolinecolor\":\"white\",\"automargin\":true,\"zerolinewidth\":2},\"yaxis\":{\"gridcolor\":\"white\",\"linecolor\":\"white\",\"ticks\":\"\",\"title\":{\"standoff\":15},\"zerolinecolor\":\"white\",\"automargin\":true,\"zerolinewidth\":2},\"scene\":{\"xaxis\":{\"backgroundcolor\":\"#E5ECF6\",\"gridcolor\":\"white\",\"linecolor\":\"white\",\"showbackground\":true,\"ticks\":\"\",\"zerolinecolor\":\"white\",\"gridwidth\":2},\"yaxis\":{\"backgroundcolor\":\"#E5ECF6\",\"gridcolor\":\"white\",\"linecolor\":\"white\",\"showbackground\":true,\"ticks\":\"\",\"zerolinecolor\":\"white\",\"gridwidth\":2},\"zaxis\":{\"backgroundcolor\":\"#E5ECF6\",\"gridcolor\":\"white\",\"linecolor\":\"white\",\"showbackground\":true,\"ticks\":\"\",\"zerolinecolor\":\"white\",\"gridwidth\":2}},\"shapedefaults\":{\"line\":{\"color\":\"#2a3f5f\"}},\"annotationdefaults\":{\"arrowcolor\":\"#2a3f5f\",\"arrowhead\":0,\"arrowwidth\":1},\"geo\":{\"bgcolor\":\"white\",\"landcolor\":\"#E5ECF6\",\"subunitcolor\":\"white\",\"showland\":true,\"showlakes\":true,\"lakecolor\":\"white\"},\"title\":{\"x\":0.05},\"mapbox\":{\"style\":\"light\"}}}},                        {\"responsive\": true}                    )                };                            </script>        </div>"
      ],
      "text/plain": [
       "Figure({\n",
       "    'data': [{'type': 'scatter',\n",
       "              'x': [0, 1, 2, 3, 4, 5, 6, 7, 8, 9, 10, 11, 12, 13, 14, 15, 16, 17,\n",
       "                    18, 19, 20, 21, 22, 23, 24, 25, 26, 27, 28, 29, 30, 31, 32, 33,\n",
       "                    34, 35, 36, 37, 38, 39, 40, 41, 42, 43, 44, 45, 46, 47, 48, 49,\n",
       "                    50, 51, 52, 53, 54, 55, 56, 57, 58, 59, 60, 61, 62, 63, 64, 65,\n",
       "                    66, 67, 68, 69, 70, 71, 72, 73, 74, 75, 76, 77, 78, 79, 80, 81,\n",
       "                    82, 83, 84, 85, 86, 87, 88, 89, 90, 91, 92, 93, 94, 95, 96, 97,\n",
       "                    98, 99],\n",
       "              'y': [0.004125768784433603, 0.0037965753581374884,\n",
       "                    0.004126965068280697, 0.0021017955150455236,\n",
       "                    0.002024770248681307, 0.0015822602435946465,\n",
       "                    0.001135871047154069, 0.0009479183354415,\n",
       "                    0.0012241482036188245, 0.0007780508603900671,\n",
       "                    0.0007300976430997252, 0.0008458395022898912,\n",
       "                    0.0006103428895585239, 0.0006096981232985854,\n",
       "                    0.0006049499497748911, 0.0006565625662915409,\n",
       "                    0.00044795332360081375, 0.0005754265584982932,\n",
       "                    0.0005490140174515545, 0.0004516446206253022,\n",
       "                    0.0004120748199056834, 0.0004884155932813883,\n",
       "                    0.0007729037315584719, 0.0005685999058187008,\n",
       "                    0.0003970569232478738, 0.00033610171522013843,\n",
       "                    0.00047548700240440667, 0.00027387726004235446,\n",
       "                    0.00035442798980511725, 0.0005566799081861973,\n",
       "                    0.0005284134531393647, 0.00028126442339271307,\n",
       "                    0.0003410946810618043, 0.0003533142153173685,\n",
       "                    0.00032005758839659393, 0.00033847373561002314,\n",
       "                    0.0003963802009820938, 0.0003445365291554481,\n",
       "                    0.00035845927777700126, 0.0001719342399155721,\n",
       "                    0.0002110054629156366, 0.0003196227189619094,\n",
       "                    0.00016803760081529617, 0.0002736308379098773,\n",
       "                    0.00026642309967428446, 0.00023932701151352376,\n",
       "                    0.00020321199554018676, 0.00018409313634037971,\n",
       "                    0.000257389823673293, 0.00015650392742827535,\n",
       "                    0.00014602365263272077, 0.0002152568631572649,\n",
       "                    0.00017566273163538426, 0.0001533219328848645,\n",
       "                    0.0001660000707488507, 0.0001433439610991627,\n",
       "                    0.0001290678046643734, 0.00012287496065255255,\n",
       "                    0.00011870302841998637, 0.00012185241939732805,\n",
       "                    0.00011358068877598271, 0.00011567914043553174,\n",
       "                    9.829207556322217e-05, 0.00011529205221449956,\n",
       "                    0.00012466585030779243, 0.0001161268082796596,\n",
       "                    0.00010148302681045607, 0.00010489013948244974,\n",
       "                    0.0001137983999797143, 0.0001386567746521905,\n",
       "                    9.44180937949568e-05, 0.00011484004062367603,\n",
       "                    0.00014779467892367393, 0.0001601318217581138,\n",
       "                    9.543373744236305e-05, 0.00013569123984780163,\n",
       "                    8.467083534924313e-05, 0.00016177610086742789,\n",
       "                    8.603432797826827e-05, 0.00013359459990169853,\n",
       "                    0.00010045916133094579, 8.367878763237968e-05,\n",
       "                    0.0001019612027448602, 0.00011994101078016683,\n",
       "                    0.00015837379032745957, 8.578749111620709e-05,\n",
       "                    9.231571311829612e-05, 9.902621968649328e-05,\n",
       "                    9.002973820315674e-05, 8.370188879780471e-05,\n",
       "                    7.736519910395145e-05, 7.555911724921316e-05,\n",
       "                    9.925593622028828e-05, 8.563721348764375e-05,\n",
       "                    8.879927918314934e-05, 9.128277451964095e-05,\n",
       "                    7.531204755650833e-05, 6.441056029871106e-05,\n",
       "                    9.5863695605658e-05, 7.24831988918595e-05]},\n",
       "             {'type': 'scatter',\n",
       "              'x': [0, 1, 2, 3, 4, 5, 6, 7, 8, 9, 10, 11, 12, 13, 14, 15, 16, 17,\n",
       "                    18, 19, 20, 21, 22, 23, 24, 25, 26, 27, 28, 29, 30, 31, 32, 33,\n",
       "                    34, 35, 36, 37, 38, 39, 40, 41, 42, 43, 44, 45, 46, 47, 48, 49,\n",
       "                    50, 51, 52, 53, 54, 55, 56, 57, 58, 59, 60, 61, 62, 63, 64, 65,\n",
       "                    66, 67, 68, 69, 70, 71, 72, 73, 74, 75, 76, 77, 78, 79, 80, 81,\n",
       "                    82, 83, 84, 85, 86, 87, 88, 89, 90, 91, 92, 93, 94, 95, 96, 97,\n",
       "                    98, 99],\n",
       "              'y': [0.004449484869837761, 0.00039279257180169225,\n",
       "                    -0.0005863618571311235, -9.947350190486759e-05,\n",
       "                    -0.00028769587515853345, -0.00016553394380025566,\n",
       "                    -5.0243077566847205e-05, -4.0159389754990116e-05,\n",
       "                    -0.00023043771216180176, -3.383496368769556e-05,\n",
       "                    -6.201503128977492e-05, -0.00016265676822513342,\n",
       "                    -4.757379065267742e-05, -4.8053349019028246e-05,\n",
       "                    -6.946695066289976e-05, -0.00011487532174214721,\n",
       "                    -2.2836755306343548e-05, -5.631773092318326e-05,\n",
       "                    -0.00011339980846969411, -5.353092637960799e-05,\n",
       "                    -5.02541042806115e-05, -7.921727956272662e-05,\n",
       "                    -0.0002471536281518638, -0.0001722956367302686,\n",
       "                    -7.132775499485433e-05, -4.701597208622843e-05,\n",
       "                    -0.0001309095969190821, -2.1798907255288213e-05,\n",
       "                    -7.009330875007436e-05, -0.0001806883083190769,\n",
       "                    -0.00016279838746413589, -4.5229779061628506e-05,\n",
       "                    -6.684029358439147e-05, -9.04333355720155e-05,\n",
       "                    -8.06486132205464e-05, -8.051809709286317e-05,\n",
       "                    -0.000119646436360199, -9.90956905297935e-05,\n",
       "                    -9.84916987363249e-05, -1.134485410148045e-05,\n",
       "                    -3.9336024201475084e-05, -9.80606782832183e-05,\n",
       "                    -1.5064520994201303e-05, -7.734287646599114e-05,\n",
       "                    -7.326713239308447e-05, -4.9746780860004947e-05,\n",
       "                    -2.9181010177126154e-05, -2.8517320970422588e-05,\n",
       "                    -6.64684412186034e-05, -1.8157878002966754e-05,\n",
       "                    -1.3468368706526235e-05, -5.401449743658304e-05,\n",
       "                    -3.027447746717371e-05, -2.3047350623528473e-05,\n",
       "                    -3.166484384564683e-05, -2.2495209123007953e-05,\n",
       "                    -1.2542014701466542e-05, -1.1092618478869554e-05,\n",
       "                    -1.0876359738176689e-05, -1.2941573004354723e-05,\n",
       "                    -1.166523634310579e-05, -1.6129166397149675e-05,\n",
       "                    -7.3840706136252265e-06, -1.7314287106273696e-05,\n",
       "                    -2.1737154384027235e-05, -1.639811489440035e-05,\n",
       "                    -1.135742695623776e-05, -1.4435994671657681e-05,\n",
       "                    -1.6963427697191946e-05, -2.8558117264765315e-05,\n",
       "                    -1.1445365998952184e-05, -1.9838578737108037e-05,\n",
       "                    -3.534213828970678e-05, -4.505270771915093e-05,\n",
       "                    -1.136606078944169e-05, -3.6833222111454234e-05,\n",
       "                    -7.62465469961171e-06, -5.135796527611092e-05,\n",
       "                    -1.0764859325718135e-05, -3.6920646380167454e-05,\n",
       "                    -1.651022284931969e-05, -1.0066663890029304e-05,\n",
       "                    -1.5981451724655926e-05, -2.7375463105272502e-05,\n",
       "                    -4.649342008633539e-05, -1.3425068573269527e-05,\n",
       "                    -1.4026082681084517e-05, -1.4645587725681253e-05,\n",
       "                    -1.7272846889682114e-05, -1.570579297549557e-05,\n",
       "                    -9.008251254272182e-06, -1.1089090548921376e-05,\n",
       "                    -1.8975209968630224e-05, -1.463767057430232e-05,\n",
       "                    -1.7321564882877283e-05, -1.9110704670310952e-05,\n",
       "                    -9.24775031307945e-06, -6.508007118100068e-06,\n",
       "                    -2.593420686025638e-05, -1.206654906127369e-05]}],\n",
       "    'layout': {'template': '...'}\n",
       "})"
      ]
     },
     "execution_count": 45,
     "metadata": {},
     "output_type": "execute_result"
    }
   ],
   "source": [
    "# utils.plot_history(cleaning_history)\n",
    "fig = go.Figure()\n",
    "\n",
    "fig.add_traces(\n",
    "    go.Scatter(\n",
    "        x=[x for x in range(len(quenching_history))],\n",
    "        y=[loss['val_loss1'] for loss in quenching_history]\n",
    "    )\n",
    ")\n",
    "fig.add_traces(\n",
    "    go.Scatter(\n",
    "        x=[x for x in range(len(quenching_history))],\n",
    "        y=[loss['val_loss2'] for loss in quenching_history]\n",
    "    )\n",
    ")"
   ]
  },
  {
   "cell_type": "code",
   "execution_count": 31,
   "metadata": {},
   "outputs": [
    {
     "ename": "AttributeError",
     "evalue": "Line2D.set() got an unexpected keyword argument 'lable'",
     "output_type": "error",
     "traceback": [
      "\u001b[0;31m---------------------------------------------------------------------------\u001b[0m",
      "\u001b[0;31mAttributeError\u001b[0m                            Traceback (most recent call last)",
      "\u001b[1;32m/Users/leebyeonghwa/studyspace/KAMP/USADforPredictMaintnance.ipynb Cell 29\u001b[0m line \u001b[0;36m1\n\u001b[0;32m----> <a href='vscode-notebook-cell:/Users/leebyeonghwa/studyspace/KAMP/USADforPredictMaintnance.ipynb#Y134sZmlsZQ%3D%3D?line=0'>1</a>\u001b[0m utils\u001b[39m.\u001b[39;49mplot_history(quenching_history)\n",
      "File \u001b[0;32m~/studyspace/KAMP/utils.py:28\u001b[0m, in \u001b[0;36mplot_history\u001b[0;34m(history)\u001b[0m\n\u001b[1;32m     25\u001b[0m losses2 \u001b[39m=\u001b[39m [x[\u001b[39m'\u001b[39m\u001b[39mval_loss2\u001b[39m\u001b[39m'\u001b[39m] \u001b[39mfor\u001b[39;00m x \u001b[39min\u001b[39;00m history]\n\u001b[1;32m     27\u001b[0m plt\u001b[39m.\u001b[39mplot(losses1, \u001b[39m'\u001b[39m\u001b[39m-x\u001b[39m\u001b[39m'\u001b[39m, label\u001b[39m=\u001b[39m\u001b[39m\"\u001b[39m\u001b[39mloss1\u001b[39m\u001b[39m\"\u001b[39m)\n\u001b[0;32m---> 28\u001b[0m plt\u001b[39m.\u001b[39;49mplot(losses2, \u001b[39m'\u001b[39;49m\u001b[39m-x\u001b[39;49m\u001b[39m'\u001b[39;49m, label\u001b[39m=\u001b[39;49m\u001b[39m\"\u001b[39;49m\u001b[39mloss2\u001b[39;49m\u001b[39m\"\u001b[39;49m)\n\u001b[1;32m     29\u001b[0m plt\u001b[39m.\u001b[39mxlabel(\u001b[39m'\u001b[39m\u001b[39mepoch\u001b[39m\u001b[39m'\u001b[39m)\n\u001b[1;32m     30\u001b[0m plt\u001b[39m.\u001b[39mylabel(\u001b[39m'\u001b[39m\u001b[39mloss\u001b[39m\u001b[39m'\u001b[39m)\n",
      "File \u001b[0;32m~/.local/share/virtualenvs/KAMP-JyWOzC9O/lib/python3.11/site-packages/matplotlib/pyplot.py:3578\u001b[0m, in \u001b[0;36mplot\u001b[0;34m(scalex, scaley, data, *args, **kwargs)\u001b[0m\n\u001b[1;32m   3570\u001b[0m \u001b[39m@_copy_docstring_and_deprecators\u001b[39m(Axes\u001b[39m.\u001b[39mplot)\n\u001b[1;32m   3571\u001b[0m \u001b[39mdef\u001b[39;00m \u001b[39mplot\u001b[39m(\n\u001b[1;32m   3572\u001b[0m     \u001b[39m*\u001b[39margs: \u001b[39mfloat\u001b[39m \u001b[39m|\u001b[39m ArrayLike \u001b[39m|\u001b[39m \u001b[39mstr\u001b[39m,\n\u001b[0;32m   (...)\u001b[0m\n\u001b[1;32m   3576\u001b[0m     \u001b[39m*\u001b[39m\u001b[39m*\u001b[39mkwargs,\n\u001b[1;32m   3577\u001b[0m ) \u001b[39m-\u001b[39m\u001b[39m>\u001b[39m \u001b[39mlist\u001b[39m[Line2D]:\n\u001b[0;32m-> 3578\u001b[0m     \u001b[39mreturn\u001b[39;00m gca()\u001b[39m.\u001b[39;49mplot(\n\u001b[1;32m   3579\u001b[0m         \u001b[39m*\u001b[39;49margs,\n\u001b[1;32m   3580\u001b[0m         scalex\u001b[39m=\u001b[39;49mscalex,\n\u001b[1;32m   3581\u001b[0m         scaley\u001b[39m=\u001b[39;49mscaley,\n\u001b[1;32m   3582\u001b[0m         \u001b[39m*\u001b[39;49m\u001b[39m*\u001b[39;49m({\u001b[39m\"\u001b[39;49m\u001b[39mdata\u001b[39;49m\u001b[39m\"\u001b[39;49m: data} \u001b[39mif\u001b[39;49;00m data \u001b[39mis\u001b[39;49;00m \u001b[39mnot\u001b[39;49;00m \u001b[39mNone\u001b[39;49;00m \u001b[39melse\u001b[39;49;00m {}),\n\u001b[1;32m   3583\u001b[0m         \u001b[39m*\u001b[39;49m\u001b[39m*\u001b[39;49mkwargs,\n\u001b[1;32m   3584\u001b[0m     )\n",
      "File \u001b[0;32m~/.local/share/virtualenvs/KAMP-JyWOzC9O/lib/python3.11/site-packages/matplotlib/axes/_axes.py:1721\u001b[0m, in \u001b[0;36mAxes.plot\u001b[0;34m(self, scalex, scaley, data, *args, **kwargs)\u001b[0m\n\u001b[1;32m   1478\u001b[0m \u001b[39m\u001b[39m\u001b[39m\"\"\"\u001b[39;00m\n\u001b[1;32m   1479\u001b[0m \u001b[39mPlot y versus x as lines and/or markers.\u001b[39;00m\n\u001b[1;32m   1480\u001b[0m \n\u001b[0;32m   (...)\u001b[0m\n\u001b[1;32m   1718\u001b[0m \u001b[39m(``'green'``) or hex strings (``'#008000'``).\u001b[39;00m\n\u001b[1;32m   1719\u001b[0m \u001b[39m\"\"\"\u001b[39;00m\n\u001b[1;32m   1720\u001b[0m kwargs \u001b[39m=\u001b[39m cbook\u001b[39m.\u001b[39mnormalize_kwargs(kwargs, mlines\u001b[39m.\u001b[39mLine2D)\n\u001b[0;32m-> 1721\u001b[0m lines \u001b[39m=\u001b[39m [\u001b[39m*\u001b[39m\u001b[39mself\u001b[39m\u001b[39m.\u001b[39m_get_lines(\u001b[39mself\u001b[39m, \u001b[39m*\u001b[39margs, data\u001b[39m=\u001b[39mdata, \u001b[39m*\u001b[39m\u001b[39m*\u001b[39mkwargs)]\n\u001b[1;32m   1722\u001b[0m \u001b[39mfor\u001b[39;00m line \u001b[39min\u001b[39;00m lines:\n\u001b[1;32m   1723\u001b[0m     \u001b[39mself\u001b[39m\u001b[39m.\u001b[39madd_line(line)\n",
      "File \u001b[0;32m~/.local/share/virtualenvs/KAMP-JyWOzC9O/lib/python3.11/site-packages/matplotlib/axes/_base.py:303\u001b[0m, in \u001b[0;36m_process_plot_var_args.__call__\u001b[0;34m(self, axes, data, *args, **kwargs)\u001b[0m\n\u001b[1;32m    301\u001b[0m     this \u001b[39m+\u001b[39m\u001b[39m=\u001b[39m args[\u001b[39m0\u001b[39m],\n\u001b[1;32m    302\u001b[0m     args \u001b[39m=\u001b[39m args[\u001b[39m1\u001b[39m:]\n\u001b[0;32m--> 303\u001b[0m \u001b[39myield from\u001b[39;00m \u001b[39mself\u001b[39;49m\u001b[39m.\u001b[39;49m_plot_args(\n\u001b[1;32m    304\u001b[0m     axes, this, kwargs, ambiguous_fmt_datakey\u001b[39m=\u001b[39;49mambiguous_fmt_datakey)\n",
      "File \u001b[0;32m~/.local/share/virtualenvs/KAMP-JyWOzC9O/lib/python3.11/site-packages/matplotlib/axes/_base.py:539\u001b[0m, in \u001b[0;36m_process_plot_var_args._plot_args\u001b[0;34m(self, axes, tup, kwargs, return_kwargs, ambiguous_fmt_datakey)\u001b[0m\n\u001b[1;32m    537\u001b[0m     \u001b[39mreturn\u001b[39;00m \u001b[39mlist\u001b[39m(result)\n\u001b[1;32m    538\u001b[0m \u001b[39melse\u001b[39;00m:\n\u001b[0;32m--> 539\u001b[0m     \u001b[39mreturn\u001b[39;00m [l[\u001b[39m0\u001b[39;49m] \u001b[39mfor\u001b[39;49;00m l \u001b[39min\u001b[39;49;00m result]\n",
      "File \u001b[0;32m~/.local/share/virtualenvs/KAMP-JyWOzC9O/lib/python3.11/site-packages/matplotlib/axes/_base.py:539\u001b[0m, in \u001b[0;36m<listcomp>\u001b[0;34m(.0)\u001b[0m\n\u001b[1;32m    537\u001b[0m     \u001b[39mreturn\u001b[39;00m \u001b[39mlist\u001b[39m(result)\n\u001b[1;32m    538\u001b[0m \u001b[39melse\u001b[39;00m:\n\u001b[0;32m--> 539\u001b[0m     \u001b[39mreturn\u001b[39;00m [l[\u001b[39m0\u001b[39;49m] \u001b[39mfor\u001b[39;49;00m l \u001b[39min\u001b[39;49;00m result]\n",
      "File \u001b[0;32m~/.local/share/virtualenvs/KAMP-JyWOzC9O/lib/python3.11/site-packages/matplotlib/axes/_base.py:532\u001b[0m, in \u001b[0;36m<genexpr>\u001b[0;34m(.0)\u001b[0m\n\u001b[1;32m    529\u001b[0m \u001b[39melse\u001b[39;00m:\n\u001b[1;32m    530\u001b[0m     labels \u001b[39m=\u001b[39m [label] \u001b[39m*\u001b[39m n_datasets\n\u001b[0;32m--> 532\u001b[0m result \u001b[39m=\u001b[39m (make_artist(axes, x[:, j \u001b[39m%\u001b[39;49m ncx], y[:, j \u001b[39m%\u001b[39;49m ncy], kw,\n\u001b[1;32m    533\u001b[0m                       {\u001b[39m*\u001b[39;49m\u001b[39m*\u001b[39;49mkwargs, \u001b[39m'\u001b[39;49m\u001b[39mlabel\u001b[39;49m\u001b[39m'\u001b[39;49m: label})\n\u001b[1;32m    534\u001b[0m           \u001b[39mfor\u001b[39;00m j, label \u001b[39min\u001b[39;00m \u001b[39menumerate\u001b[39m(labels))\n\u001b[1;32m    536\u001b[0m \u001b[39mif\u001b[39;00m return_kwargs:\n\u001b[1;32m    537\u001b[0m     \u001b[39mreturn\u001b[39;00m \u001b[39mlist\u001b[39m(result)\n",
      "File \u001b[0;32m~/.local/share/virtualenvs/KAMP-JyWOzC9O/lib/python3.11/site-packages/matplotlib/axes/_base.py:346\u001b[0m, in \u001b[0;36m_process_plot_var_args._makeline\u001b[0;34m(self, axes, x, y, kw, kwargs)\u001b[0m\n\u001b[1;32m    344\u001b[0m default_dict \u001b[39m=\u001b[39m \u001b[39mself\u001b[39m\u001b[39m.\u001b[39m_getdefaults(\u001b[39mset\u001b[39m(), kw)\n\u001b[1;32m    345\u001b[0m \u001b[39mself\u001b[39m\u001b[39m.\u001b[39m_setdefaults(default_dict, kw)\n\u001b[0;32m--> 346\u001b[0m seg \u001b[39m=\u001b[39m mlines\u001b[39m.\u001b[39;49mLine2D(x, y, \u001b[39m*\u001b[39;49m\u001b[39m*\u001b[39;49mkw)\n\u001b[1;32m    347\u001b[0m \u001b[39mreturn\u001b[39;00m seg, kw\n",
      "File \u001b[0;32m~/.local/share/virtualenvs/KAMP-JyWOzC9O/lib/python3.11/site-packages/matplotlib/lines.py:407\u001b[0m, in \u001b[0;36mLine2D.__init__\u001b[0;34m(self, xdata, ydata, linewidth, linestyle, color, gapcolor, marker, markersize, markeredgewidth, markeredgecolor, markerfacecolor, markerfacecoloralt, fillstyle, antialiased, dash_capstyle, solid_capstyle, dash_joinstyle, solid_joinstyle, pickradius, drawstyle, markevery, **kwargs)\u001b[0m\n\u001b[1;32m    403\u001b[0m \u001b[39mself\u001b[39m\u001b[39m.\u001b[39mset_markeredgewidth(markeredgewidth)\n\u001b[1;32m    405\u001b[0m \u001b[39m# update kwargs before updating data to give the caller a\u001b[39;00m\n\u001b[1;32m    406\u001b[0m \u001b[39m# chance to init axes (and hence unit support)\u001b[39;00m\n\u001b[0;32m--> 407\u001b[0m \u001b[39mself\u001b[39;49m\u001b[39m.\u001b[39;49m_internal_update(kwargs)\n\u001b[1;32m    408\u001b[0m \u001b[39mself\u001b[39m\u001b[39m.\u001b[39mpickradius \u001b[39m=\u001b[39m pickradius\n\u001b[1;32m    409\u001b[0m \u001b[39mself\u001b[39m\u001b[39m.\u001b[39mind_offset \u001b[39m=\u001b[39m \u001b[39m0\u001b[39m\n",
      "File \u001b[0;32m~/.local/share/virtualenvs/KAMP-JyWOzC9O/lib/python3.11/site-packages/matplotlib/artist.py:1219\u001b[0m, in \u001b[0;36mArtist._internal_update\u001b[0;34m(self, kwargs)\u001b[0m\n\u001b[1;32m   1212\u001b[0m \u001b[39mdef\u001b[39;00m \u001b[39m_internal_update\u001b[39m(\u001b[39mself\u001b[39m, kwargs):\n\u001b[1;32m   1213\u001b[0m \u001b[39m    \u001b[39m\u001b[39m\"\"\"\u001b[39;00m\n\u001b[1;32m   1214\u001b[0m \u001b[39m    Update artist properties without prenormalizing them, but generating\u001b[39;00m\n\u001b[1;32m   1215\u001b[0m \u001b[39m    errors as if calling `set`.\u001b[39;00m\n\u001b[1;32m   1216\u001b[0m \n\u001b[1;32m   1217\u001b[0m \u001b[39m    The lack of prenormalization is to maintain backcompatibility.\u001b[39;00m\n\u001b[1;32m   1218\u001b[0m \u001b[39m    \"\"\"\u001b[39;00m\n\u001b[0;32m-> 1219\u001b[0m     \u001b[39mreturn\u001b[39;00m \u001b[39mself\u001b[39;49m\u001b[39m.\u001b[39;49m_update_props(\n\u001b[1;32m   1220\u001b[0m         kwargs, \u001b[39m\"\u001b[39;49m\u001b[39m{cls.__name__}\u001b[39;49;00m\u001b[39m.set() got an unexpected keyword argument \u001b[39;49m\u001b[39m\"\u001b[39;49m\n\u001b[1;32m   1221\u001b[0m         \u001b[39m\"\u001b[39;49m\u001b[39m{prop_name!r}\u001b[39;49;00m\u001b[39m\"\u001b[39;49m)\n",
      "File \u001b[0;32m~/.local/share/virtualenvs/KAMP-JyWOzC9O/lib/python3.11/site-packages/matplotlib/artist.py:1193\u001b[0m, in \u001b[0;36mArtist._update_props\u001b[0;34m(self, props, errfmt)\u001b[0m\n\u001b[1;32m   1191\u001b[0m             func \u001b[39m=\u001b[39m \u001b[39mgetattr\u001b[39m(\u001b[39mself\u001b[39m, \u001b[39mf\u001b[39m\u001b[39m\"\u001b[39m\u001b[39mset_\u001b[39m\u001b[39m{\u001b[39;00mk\u001b[39m}\u001b[39;00m\u001b[39m\"\u001b[39m, \u001b[39mNone\u001b[39;00m)\n\u001b[1;32m   1192\u001b[0m             \u001b[39mif\u001b[39;00m \u001b[39mnot\u001b[39;00m \u001b[39mcallable\u001b[39m(func):\n\u001b[0;32m-> 1193\u001b[0m                 \u001b[39mraise\u001b[39;00m \u001b[39mAttributeError\u001b[39;00m(\n\u001b[1;32m   1194\u001b[0m                     errfmt\u001b[39m.\u001b[39mformat(\u001b[39mcls\u001b[39m\u001b[39m=\u001b[39m\u001b[39mtype\u001b[39m(\u001b[39mself\u001b[39m), prop_name\u001b[39m=\u001b[39mk))\n\u001b[1;32m   1195\u001b[0m             ret\u001b[39m.\u001b[39mappend(func(v))\n\u001b[1;32m   1196\u001b[0m \u001b[39mif\u001b[39;00m ret:\n",
      "\u001b[0;31mAttributeError\u001b[0m: Line2D.set() got an unexpected keyword argument 'lable'"
     ]
    },
    {
     "data": {
      "image/png": "[encoded data removed]",
      "text/plain": [
       "<Figure size 640x480 with 1 Axes>"
      ]
     },
     "metadata": {},
     "output_type": "display_data"
    }
   ],
   "source": [
    "utils.plot_history(quenching_history)"
   ]
  },
  {
   "cell_type": "code",
   "execution_count": 32,
   "metadata": {},
   "outputs": [
    {
     "ename": "AttributeError",
     "evalue": "Line2D.set() got an unexpected keyword argument 'lable'",
     "output_type": "error",
     "traceback": [
      "\u001b[0;31m---------------------------------------------------------------------------\u001b[0m",
      "\u001b[0;31mAttributeError\u001b[0m                            Traceback (most recent call last)",
      "\u001b[1;32m/Users/leebyeonghwa/studyspace/KAMP/USADforPredictMaintnance.ipynb Cell 30\u001b[0m line \u001b[0;36m1\n\u001b[0;32m----> <a href='vscode-notebook-cell:/Users/leebyeonghwa/studyspace/KAMP/USADforPredictMaintnance.ipynb#Y135sZmlsZQ%3D%3D?line=0'>1</a>\u001b[0m utils\u001b[39m.\u001b[39;49mplot_history(salt_history)\n",
      "File \u001b[0;32m~/studyspace/KAMP/utils.py:28\u001b[0m, in \u001b[0;36mplot_history\u001b[0;34m(history)\u001b[0m\n\u001b[1;32m     25\u001b[0m losses2 \u001b[39m=\u001b[39m [x[\u001b[39m'\u001b[39m\u001b[39mval_loss2\u001b[39m\u001b[39m'\u001b[39m] \u001b[39mfor\u001b[39;00m x \u001b[39min\u001b[39;00m history]\n\u001b[1;32m     27\u001b[0m plt\u001b[39m.\u001b[39mplot(losses1, \u001b[39m'\u001b[39m\u001b[39m-x\u001b[39m\u001b[39m'\u001b[39m, label\u001b[39m=\u001b[39m\u001b[39m\"\u001b[39m\u001b[39mloss1\u001b[39m\u001b[39m\"\u001b[39m)\n\u001b[0;32m---> 28\u001b[0m plt\u001b[39m.\u001b[39;49mplot(losses2, \u001b[39m'\u001b[39;49m\u001b[39m-x\u001b[39;49m\u001b[39m'\u001b[39;49m, label\u001b[39m=\u001b[39;49m\u001b[39m\"\u001b[39;49m\u001b[39mloss2\u001b[39;49m\u001b[39m\"\u001b[39;49m)\n\u001b[1;32m     29\u001b[0m plt\u001b[39m.\u001b[39mxlabel(\u001b[39m'\u001b[39m\u001b[39mepoch\u001b[39m\u001b[39m'\u001b[39m)\n\u001b[1;32m     30\u001b[0m plt\u001b[39m.\u001b[39mylabel(\u001b[39m'\u001b[39m\u001b[39mloss\u001b[39m\u001b[39m'\u001b[39m)\n",
      "File \u001b[0;32m~/.local/share/virtualenvs/KAMP-JyWOzC9O/lib/python3.11/site-packages/matplotlib/pyplot.py:3578\u001b[0m, in \u001b[0;36mplot\u001b[0;34m(scalex, scaley, data, *args, **kwargs)\u001b[0m\n\u001b[1;32m   3570\u001b[0m \u001b[39m@_copy_docstring_and_deprecators\u001b[39m(Axes\u001b[39m.\u001b[39mplot)\n\u001b[1;32m   3571\u001b[0m \u001b[39mdef\u001b[39;00m \u001b[39mplot\u001b[39m(\n\u001b[1;32m   3572\u001b[0m     \u001b[39m*\u001b[39margs: \u001b[39mfloat\u001b[39m \u001b[39m|\u001b[39m ArrayLike \u001b[39m|\u001b[39m \u001b[39mstr\u001b[39m,\n\u001b[0;32m   (...)\u001b[0m\n\u001b[1;32m   3576\u001b[0m     \u001b[39m*\u001b[39m\u001b[39m*\u001b[39mkwargs,\n\u001b[1;32m   3577\u001b[0m ) \u001b[39m-\u001b[39m\u001b[39m>\u001b[39m \u001b[39mlist\u001b[39m[Line2D]:\n\u001b[0;32m-> 3578\u001b[0m     \u001b[39mreturn\u001b[39;00m gca()\u001b[39m.\u001b[39;49mplot(\n\u001b[1;32m   3579\u001b[0m         \u001b[39m*\u001b[39;49margs,\n\u001b[1;32m   3580\u001b[0m         scalex\u001b[39m=\u001b[39;49mscalex,\n\u001b[1;32m   3581\u001b[0m         scaley\u001b[39m=\u001b[39;49mscaley,\n\u001b[1;32m   3582\u001b[0m         \u001b[39m*\u001b[39;49m\u001b[39m*\u001b[39;49m({\u001b[39m\"\u001b[39;49m\u001b[39mdata\u001b[39;49m\u001b[39m\"\u001b[39;49m: data} \u001b[39mif\u001b[39;49;00m data \u001b[39mis\u001b[39;49;00m \u001b[39mnot\u001b[39;49;00m \u001b[39mNone\u001b[39;49;00m \u001b[39melse\u001b[39;49;00m {}),\n\u001b[1;32m   3583\u001b[0m         \u001b[39m*\u001b[39;49m\u001b[39m*\u001b[39;49mkwargs,\n\u001b[1;32m   3584\u001b[0m     )\n",
      "File \u001b[0;32m~/.local/share/virtualenvs/KAMP-JyWOzC9O/lib/python3.11/site-packages/matplotlib/axes/_axes.py:1721\u001b[0m, in \u001b[0;36mAxes.plot\u001b[0;34m(self, scalex, scaley, data, *args, **kwargs)\u001b[0m\n\u001b[1;32m   1478\u001b[0m \u001b[39m\u001b[39m\u001b[39m\"\"\"\u001b[39;00m\n\u001b[1;32m   1479\u001b[0m \u001b[39mPlot y versus x as lines and/or markers.\u001b[39;00m\n\u001b[1;32m   1480\u001b[0m \n\u001b[0;32m   (...)\u001b[0m\n\u001b[1;32m   1718\u001b[0m \u001b[39m(``'green'``) or hex strings (``'#008000'``).\u001b[39;00m\n\u001b[1;32m   1719\u001b[0m \u001b[39m\"\"\"\u001b[39;00m\n\u001b[1;32m   1720\u001b[0m kwargs \u001b[39m=\u001b[39m cbook\u001b[39m.\u001b[39mnormalize_kwargs(kwargs, mlines\u001b[39m.\u001b[39mLine2D)\n\u001b[0;32m-> 1721\u001b[0m lines \u001b[39m=\u001b[39m [\u001b[39m*\u001b[39m\u001b[39mself\u001b[39m\u001b[39m.\u001b[39m_get_lines(\u001b[39mself\u001b[39m, \u001b[39m*\u001b[39margs, data\u001b[39m=\u001b[39mdata, \u001b[39m*\u001b[39m\u001b[39m*\u001b[39mkwargs)]\n\u001b[1;32m   1722\u001b[0m \u001b[39mfor\u001b[39;00m line \u001b[39min\u001b[39;00m lines:\n\u001b[1;32m   1723\u001b[0m     \u001b[39mself\u001b[39m\u001b[39m.\u001b[39madd_line(line)\n",
      "File \u001b[0;32m~/.local/share/virtualenvs/KAMP-JyWOzC9O/lib/python3.11/site-packages/matplotlib/axes/_base.py:303\u001b[0m, in \u001b[0;36m_process_plot_var_args.__call__\u001b[0;34m(self, axes, data, *args, **kwargs)\u001b[0m\n\u001b[1;32m    301\u001b[0m     this \u001b[39m+\u001b[39m\u001b[39m=\u001b[39m args[\u001b[39m0\u001b[39m],\n\u001b[1;32m    302\u001b[0m     args \u001b[39m=\u001b[39m args[\u001b[39m1\u001b[39m:]\n\u001b[0;32m--> 303\u001b[0m \u001b[39myield from\u001b[39;00m \u001b[39mself\u001b[39;49m\u001b[39m.\u001b[39;49m_plot_args(\n\u001b[1;32m    304\u001b[0m     axes, this, kwargs, ambiguous_fmt_datakey\u001b[39m=\u001b[39;49mambiguous_fmt_datakey)\n",
      "File \u001b[0;32m~/.local/share/virtualenvs/KAMP-JyWOzC9O/lib/python3.11/site-packages/matplotlib/axes/_base.py:539\u001b[0m, in \u001b[0;36m_process_plot_var_args._plot_args\u001b[0;34m(self, axes, tup, kwargs, return_kwargs, ambiguous_fmt_datakey)\u001b[0m\n\u001b[1;32m    537\u001b[0m     \u001b[39mreturn\u001b[39;00m \u001b[39mlist\u001b[39m(result)\n\u001b[1;32m    538\u001b[0m \u001b[39melse\u001b[39;00m:\n\u001b[0;32m--> 539\u001b[0m     \u001b[39mreturn\u001b[39;00m [l[\u001b[39m0\u001b[39;49m] \u001b[39mfor\u001b[39;49;00m l \u001b[39min\u001b[39;49;00m result]\n",
      "File \u001b[0;32m~/.local/share/virtualenvs/KAMP-JyWOzC9O/lib/python3.11/site-packages/matplotlib/axes/_base.py:539\u001b[0m, in \u001b[0;36m<listcomp>\u001b[0;34m(.0)\u001b[0m\n\u001b[1;32m    537\u001b[0m     \u001b[39mreturn\u001b[39;00m \u001b[39mlist\u001b[39m(result)\n\u001b[1;32m    538\u001b[0m \u001b[39melse\u001b[39;00m:\n\u001b[0;32m--> 539\u001b[0m     \u001b[39mreturn\u001b[39;00m [l[\u001b[39m0\u001b[39;49m] \u001b[39mfor\u001b[39;49;00m l \u001b[39min\u001b[39;49;00m result]\n",
      "File \u001b[0;32m~/.local/share/virtualenvs/KAMP-JyWOzC9O/lib/python3.11/site-packages/matplotlib/axes/_base.py:532\u001b[0m, in \u001b[0;36m<genexpr>\u001b[0;34m(.0)\u001b[0m\n\u001b[1;32m    529\u001b[0m \u001b[39melse\u001b[39;00m:\n\u001b[1;32m    530\u001b[0m     labels \u001b[39m=\u001b[39m [label] \u001b[39m*\u001b[39m n_datasets\n\u001b[0;32m--> 532\u001b[0m result \u001b[39m=\u001b[39m (make_artist(axes, x[:, j \u001b[39m%\u001b[39;49m ncx], y[:, j \u001b[39m%\u001b[39;49m ncy], kw,\n\u001b[1;32m    533\u001b[0m                       {\u001b[39m*\u001b[39;49m\u001b[39m*\u001b[39;49mkwargs, \u001b[39m'\u001b[39;49m\u001b[39mlabel\u001b[39;49m\u001b[39m'\u001b[39;49m: label})\n\u001b[1;32m    534\u001b[0m           \u001b[39mfor\u001b[39;00m j, label \u001b[39min\u001b[39;00m \u001b[39menumerate\u001b[39m(labels))\n\u001b[1;32m    536\u001b[0m \u001b[39mif\u001b[39;00m return_kwargs:\n\u001b[1;32m    537\u001b[0m     \u001b[39mreturn\u001b[39;00m \u001b[39mlist\u001b[39m(result)\n",
      "File \u001b[0;32m~/.local/share/virtualenvs/KAMP-JyWOzC9O/lib/python3.11/site-packages/matplotlib/axes/_base.py:346\u001b[0m, in \u001b[0;36m_process_plot_var_args._makeline\u001b[0;34m(self, axes, x, y, kw, kwargs)\u001b[0m\n\u001b[1;32m    344\u001b[0m default_dict \u001b[39m=\u001b[39m \u001b[39mself\u001b[39m\u001b[39m.\u001b[39m_getdefaults(\u001b[39mset\u001b[39m(), kw)\n\u001b[1;32m    345\u001b[0m \u001b[39mself\u001b[39m\u001b[39m.\u001b[39m_setdefaults(default_dict, kw)\n\u001b[0;32m--> 346\u001b[0m seg \u001b[39m=\u001b[39m mlines\u001b[39m.\u001b[39;49mLine2D(x, y, \u001b[39m*\u001b[39;49m\u001b[39m*\u001b[39;49mkw)\n\u001b[1;32m    347\u001b[0m \u001b[39mreturn\u001b[39;00m seg, kw\n",
      "File \u001b[0;32m~/.local/share/virtualenvs/KAMP-JyWOzC9O/lib/python3.11/site-packages/matplotlib/lines.py:407\u001b[0m, in \u001b[0;36mLine2D.__init__\u001b[0;34m(self, xdata, ydata, linewidth, linestyle, color, gapcolor, marker, markersize, markeredgewidth, markeredgecolor, markerfacecolor, markerfacecoloralt, fillstyle, antialiased, dash_capstyle, solid_capstyle, dash_joinstyle, solid_joinstyle, pickradius, drawstyle, markevery, **kwargs)\u001b[0m\n\u001b[1;32m    403\u001b[0m \u001b[39mself\u001b[39m\u001b[39m.\u001b[39mset_markeredgewidth(markeredgewidth)\n\u001b[1;32m    405\u001b[0m \u001b[39m# update kwargs before updating data to give the caller a\u001b[39;00m\n\u001b[1;32m    406\u001b[0m \u001b[39m# chance to init axes (and hence unit support)\u001b[39;00m\n\u001b[0;32m--> 407\u001b[0m \u001b[39mself\u001b[39;49m\u001b[39m.\u001b[39;49m_internal_update(kwargs)\n\u001b[1;32m    408\u001b[0m \u001b[39mself\u001b[39m\u001b[39m.\u001b[39mpickradius \u001b[39m=\u001b[39m pickradius\n\u001b[1;32m    409\u001b[0m \u001b[39mself\u001b[39m\u001b[39m.\u001b[39mind_offset \u001b[39m=\u001b[39m \u001b[39m0\u001b[39m\n",
      "File \u001b[0;32m~/.local/share/virtualenvs/KAMP-JyWOzC9O/lib/python3.11/site-packages/matplotlib/artist.py:1219\u001b[0m, in \u001b[0;36mArtist._internal_update\u001b[0;34m(self, kwargs)\u001b[0m\n\u001b[1;32m   1212\u001b[0m \u001b[39mdef\u001b[39;00m \u001b[39m_internal_update\u001b[39m(\u001b[39mself\u001b[39m, kwargs):\n\u001b[1;32m   1213\u001b[0m \u001b[39m    \u001b[39m\u001b[39m\"\"\"\u001b[39;00m\n\u001b[1;32m   1214\u001b[0m \u001b[39m    Update artist properties without prenormalizing them, but generating\u001b[39;00m\n\u001b[1;32m   1215\u001b[0m \u001b[39m    errors as if calling `set`.\u001b[39;00m\n\u001b[1;32m   1216\u001b[0m \n\u001b[1;32m   1217\u001b[0m \u001b[39m    The lack of prenormalization is to maintain backcompatibility.\u001b[39;00m\n\u001b[1;32m   1218\u001b[0m \u001b[39m    \"\"\"\u001b[39;00m\n\u001b[0;32m-> 1219\u001b[0m     \u001b[39mreturn\u001b[39;00m \u001b[39mself\u001b[39;49m\u001b[39m.\u001b[39;49m_update_props(\n\u001b[1;32m   1220\u001b[0m         kwargs, \u001b[39m\"\u001b[39;49m\u001b[39m{cls.__name__}\u001b[39;49;00m\u001b[39m.set() got an unexpected keyword argument \u001b[39;49m\u001b[39m\"\u001b[39;49m\n\u001b[1;32m   1221\u001b[0m         \u001b[39m\"\u001b[39;49m\u001b[39m{prop_name!r}\u001b[39;49;00m\u001b[39m\"\u001b[39;49m)\n",
      "File \u001b[0;32m~/.local/share/virtualenvs/KAMP-JyWOzC9O/lib/python3.11/site-packages/matplotlib/artist.py:1193\u001b[0m, in \u001b[0;36mArtist._update_props\u001b[0;34m(self, props, errfmt)\u001b[0m\n\u001b[1;32m   1191\u001b[0m             func \u001b[39m=\u001b[39m \u001b[39mgetattr\u001b[39m(\u001b[39mself\u001b[39m, \u001b[39mf\u001b[39m\u001b[39m\"\u001b[39m\u001b[39mset_\u001b[39m\u001b[39m{\u001b[39;00mk\u001b[39m}\u001b[39;00m\u001b[39m\"\u001b[39m, \u001b[39mNone\u001b[39;00m)\n\u001b[1;32m   1192\u001b[0m             \u001b[39mif\u001b[39;00m \u001b[39mnot\u001b[39;00m \u001b[39mcallable\u001b[39m(func):\n\u001b[0;32m-> 1193\u001b[0m                 \u001b[39mraise\u001b[39;00m \u001b[39mAttributeError\u001b[39;00m(\n\u001b[1;32m   1194\u001b[0m                     errfmt\u001b[39m.\u001b[39mformat(\u001b[39mcls\u001b[39m\u001b[39m=\u001b[39m\u001b[39mtype\u001b[39m(\u001b[39mself\u001b[39m), prop_name\u001b[39m=\u001b[39mk))\n\u001b[1;32m   1195\u001b[0m             ret\u001b[39m.\u001b[39mappend(func(v))\n\u001b[1;32m   1196\u001b[0m \u001b[39mif\u001b[39;00m ret:\n",
      "\u001b[0;31mAttributeError\u001b[0m: Line2D.set() got an unexpected keyword argument 'lable'"
     ]
    },
    {
     "data": {
      "image/png": "[encoded data removed]",
      "text/plain": [
       "<Figure size 640x480 with 1 Axes>"
      ]
     },
     "metadata": {},
     "output_type": "display_data"
    }
   ],
   "source": [
    "utils.plot_history(salt_history)"
   ]
  },
  {
   "cell_type": "code",
   "execution_count": 33,
   "metadata": {},
   "outputs": [
    {
     "data": {
      "text/plain": [
       "[{'val_loss1': 0.012264000251889229, 'val_loss2': 0.013397216796875},\n",
       " {'val_loss1': 0.011351313441991806, 'val_loss2': 0.0023106366861611605},\n",
       " {'val_loss1': 0.00839980412274599, 'val_loss2': 0.0008219645242206752},\n",
       " {'val_loss1': 0.011124815791845322, 'val_loss2': -0.0014321522321552038},\n",
       " {'val_loss1': 0.005709492601454258, 'val_loss2': -0.0005140405264683068},\n",
       " {'val_loss1': 0.004886247217655182, 'val_loss2': -0.0007151623722165823},\n",
       " {'val_loss1': 0.004903946537524462, 'val_loss2': -0.0010565884876996279},\n",
       " {'val_loss1': 0.004407841712236404, 'val_loss2': -0.0007859782199375331},\n",
       " {'val_loss1': 0.004604458808898926, 'val_loss2': -0.0010786480270326138},\n",
       " {'val_loss1': 0.003444781294092536, 'val_loss2': -0.0006959320744499564},\n",
       " {'val_loss1': 0.00303154275752604, 'val_loss2': -0.0006124080973677337},\n",
       " {'val_loss1': 0.002602771855890751, 'val_loss2': -0.0004879334883298725},\n",
       " {'val_loss1': 0.002357999561354518, 'val_loss2': -0.0004473913286346942},\n",
       " {'val_loss1': 0.0028247563168406487, 'val_loss2': -0.0006933381082490087},\n",
       " {'val_loss1': 0.002007364761084318, 'val_loss2': -0.0004092121380381286},\n",
       " {'val_loss1': 0.002254701452329755, 'val_loss2': -0.000566616072319448},\n",
       " {'val_loss1': 0.0017652669921517372, 'val_loss2': -0.00036036051460541785},\n",
       " {'val_loss1': 0.0019598014187067747, 'val_loss2': -0.0005084095173515379},\n",
       " {'val_loss1': 0.001752384821884334, 'val_loss2': -0.00039435914368368685},\n",
       " {'val_loss1': 0.0015010787174105644, 'val_loss2': -0.00031928473617881536},\n",
       " {'val_loss1': 0.0014834211906418204, 'val_loss2': -0.00035374227445572615},\n",
       " {'val_loss1': 0.0013465569354593754, 'val_loss2': -0.00031448682420887053},\n",
       " {'val_loss1': 0.0013204358983784914, 'val_loss2': -0.0003013949899468571},\n",
       " {'val_loss1': 0.0012451224029064178, 'val_loss2': -0.0003129995602648705},\n",
       " {'val_loss1': 0.001265040598809719, 'val_loss2': -0.0003290359163656831},\n",
       " {'val_loss1': 0.0010969506110996008, 'val_loss2': -0.00024624585057608783},\n",
       " {'val_loss1': 0.0010739132994785905, 'val_loss2': -0.0002587906492408365},\n",
       " {'val_loss1': 0.00111672084312886, 'val_loss2': -0.00030910177156329155},\n",
       " {'val_loss1': 0.0010456074960529804, 'val_loss2': -0.00028534361626952887},\n",
       " {'val_loss1': 0.0009600697085261345, 'val_loss2': -0.0002470963809173554},\n",
       " {'val_loss1': 0.0009565629879944026, 'val_loss2': -0.00025647785514593124},\n",
       " {'val_loss1': 0.0009804818546399474, 'val_loss2': -0.00026337208691984415},\n",
       " {'val_loss1': 0.0008933230419643223, 'val_loss2': -0.00024036766262724996},\n",
       " {'val_loss1': 0.0008616497507318854, 'val_loss2': -0.0002332305593881756},\n",
       " {'val_loss1': 0.000785010983236134, 'val_loss2': -0.00019675810472108424},\n",
       " {'val_loss1': 0.000783873547334224, 'val_loss2': -0.00019998240168206394},\n",
       " {'val_loss1': 0.0009150475962087512, 'val_loss2': -0.0002832623431459069},\n",
       " {'val_loss1': 0.0007337499991990626, 'val_loss2': -0.00018561174510978162},\n",
       " {'val_loss1': 0.0007697848486714065, 'val_loss2': -0.00020708488591481},\n",
       " {'val_loss1': 0.0007473662844859064, 'val_loss2': -0.00019852806872222573},\n",
       " {'val_loss1': 0.0007125106640160084, 'val_loss2': -0.0001871808199211955},\n",
       " {'val_loss1': 0.0006747463485226035, 'val_loss2': -0.0001724898611428216},\n",
       " {'val_loss1': 0.000640637066680938, 'val_loss2': -0.00015098709263838828},\n",
       " {'val_loss1': 0.0006138067110441625, 'val_loss2': -0.0001514542382210493},\n",
       " {'val_loss1': 0.0006111717666499317, 'val_loss2': -0.00015636261377949268},\n",
       " {'val_loss1': 0.0006108797970227897, 'val_loss2': -0.00015069184883031994},\n",
       " {'val_loss1': 0.000622530176769942, 'val_loss2': -0.00015633121074642986},\n",
       " {'val_loss1': 0.0006023226887919009, 'val_loss2': -0.0001536448544356972},\n",
       " {'val_loss1': 0.0006385086453519762, 'val_loss2': -0.00017321911582257599},\n",
       " {'val_loss1': 0.0005806332337670028, 'val_loss2': -0.00014888356963638216},\n",
       " {'val_loss1': 0.0005492750788107514, 'val_loss2': -0.0001366677606711164},\n",
       " {'val_loss1': 0.0005418386426754296, 'val_loss2': -0.0001306949561694637},\n",
       " {'val_loss1': 0.0005485726869665086, 'val_loss2': -0.00014478922821581364},\n",
       " {'val_loss1': 0.00048707093810662627, 'val_loss2': -0.00011166405602125451},\n",
       " {'val_loss1': 0.0005390650476329029, 'val_loss2': -0.00014613709936384112},\n",
       " {'val_loss1': 0.00047901441575959325, 'val_loss2': -0.00011992602958343923},\n",
       " {'val_loss1': 0.000465783552499488, 'val_loss2': -0.00010874322470044717},\n",
       " {'val_loss1': 0.0004801718459930271, 'val_loss2': -0.00011186602932866663},\n",
       " {'val_loss1': 0.0004569243756122887, 'val_loss2': -0.00010838394518941641},\n",
       " {'val_loss1': 0.00044991495087742805, 'val_loss2': -0.00010704291344154626},\n",
       " {'val_loss1': 0.0004337770806159824, 'val_loss2': -9.785519796423614e-05},\n",
       " {'val_loss1': 0.0004496836045291275, 'val_loss2': -0.00011013800394721329},\n",
       " {'val_loss1': 0.0004722906742244959, 'val_loss2': -0.0001235332019859925},\n",
       " {'val_loss1': 0.0004521449445746839, 'val_loss2': -0.0001092085731215775},\n",
       " {'val_loss1': 0.0004276914114598185, 'val_loss2': -0.00010368555376771837},\n",
       " {'val_loss1': 0.00044144244748167694, 'val_loss2': -0.00010413550626253709},\n",
       " {'val_loss1': 0.0004159841046202928, 'val_loss2': -9.811777272261679e-05},\n",
       " {'val_loss1': 0.00042928653419949114, 'val_loss2': -9.973547275876626e-05},\n",
       " {'val_loss1': 0.0003837934054899961, 'val_loss2': -9.132241393672302e-05},\n",
       " {'val_loss1': 0.00038427827530540526, 'val_loss2': -8.543982403352857e-05},\n",
       " {'val_loss1': 0.00039113560342229903, 'val_loss2': -9.238490019924939e-05},\n",
       " {'val_loss1': 0.00037575108581222594, 'val_loss2': -9.241150110028684e-05},\n",
       " {'val_loss1': 0.0003724923590198159, 'val_loss2': -9.056975250132382e-05},\n",
       " {'val_loss1': 0.0003577153547666967, 'val_loss2': -8.517222886439413e-05},\n",
       " {'val_loss1': 0.0003639391507022083, 'val_loss2': -9.156307351076975e-05},\n",
       " {'val_loss1': 0.0003633115265984088, 'val_loss2': -8.230667299358174e-05},\n",
       " {'val_loss1': 0.00037007121136412024, 'val_loss2': -9.59944591159001e-05},\n",
       " {'val_loss1': 0.00033408807939849794, 'val_loss2': -8.328535477630794e-05},\n",
       " {'val_loss1': 0.0003429670468904078, 'val_loss2': -7.43686396162957e-05},\n",
       " {'val_loss1': 0.00034578621853142977, 'val_loss2': -8.086011803243309e-05},\n",
       " {'val_loss1': 0.00033380230888724327, 'val_loss2': -8.244148921221495e-05},\n",
       " {'val_loss1': 0.00033240127959288657, 'val_loss2': -7.810194074409083e-05},\n",
       " {'val_loss1': 0.0003305654099676758, 'val_loss2': -7.922243094071746e-05},\n",
       " {'val_loss1': 0.0003428193449508399, 'val_loss2': -8.991269714897498e-05},\n",
       " {'val_loss1': 0.00032279716106131673, 'val_loss2': -8.181368320947513e-05},\n",
       " {'val_loss1': 0.0003091758117079735, 'val_loss2': -7.795037527102977e-05},\n",
       " {'val_loss1': 0.00031254018540494144, 'val_loss2': -8.004151459317654e-05},\n",
       " {'val_loss1': 0.0003229466383345425, 'val_loss2': -7.975140033522621e-05},\n",
       " {'val_loss1': 0.00029309248202480376, 'val_loss2': -7.246992754517123e-05},\n",
       " {'val_loss1': 0.00030187531956471503, 'val_loss2': -7.836009899619967e-05},\n",
       " {'val_loss1': 0.00030690457788296044, 'val_loss2': -8.08958793641068e-05},\n",
       " {'val_loss1': 0.0002981174911838025, 'val_loss2': -7.798618753440678e-05},\n",
       " {'val_loss1': 0.0002907870803028345, 'val_loss2': -7.443994400091469e-05},\n",
       " {'val_loss1': 0.0003069876693189144, 'val_loss2': -8.393689495278522e-05},\n",
       " {'val_loss1': 0.00029468140564858913, 'val_loss2': -7.450518023688346e-05},\n",
       " {'val_loss1': 0.00030168407829478383, 'val_loss2': -8.214666013373062e-05},\n",
       " {'val_loss1': 0.0003014350950252265, 'val_loss2': -8.343387162312865e-05},\n",
       " {'val_loss1': 0.000286316208075732, 'val_loss2': -7.849941175663844e-05},\n",
       " {'val_loss1': 0.0002720598131418228, 'val_loss2': -7.139433728298172e-05},\n",
       " {'val_loss1': 0.0002697414893191308, 'val_loss2': -7.10840686224401e-05}]"
      ]
     },
     "execution_count": 33,
     "metadata": {},
     "output_type": "execute_result"
    }
   ],
   "source": [
    "salt_history"
   ]
  },
  {
   "cell_type": "code",
   "execution_count": 27,
   "metadata": {},
   "outputs": [],
   "source": [
    "model_list = [drying_model, cleaning_model, quenching_model, salt_model]\n",
    "model_name_list = ['건조', '세정', '소입', '솔트']\n",
    "\n",
    "for name, model in zip(model_name_list, model_list):\n",
    "    torch.save({\n",
    "                'encoder': model.encoder.state_dict(),\n",
    "                'decoder1': model.decoder1.state_dict(),\n",
    "                'decoder2': model.decoder2.state_dict()\n",
    "                }, \"./model/\"+name+\"model.pth\")"
   ]
  },
  {
   "cell_type": "markdown",
   "metadata": {},
   "source": [
    "#### Testing"
   ]
  },
  {
   "cell_type": "code",
   "execution_count": null,
   "metadata": {},
   "outputs": [],
   "source": [
    "for idx, model_name in enumerate(model_name_list):\n",
    "    checkpoint = torch.load(\"model.pth\")\n",
    "    model_list[idx].encoder.load_state_dict(checkpoint['encoder'])\n",
    "    model_list[idx].decoder1.load_state_dict(checkpoint['decoder1'])\n",
    "    model_list[idx].decoder2.load_state_dict(checkpoint['decoder2'])\n",
    "    "
   ]
  },
  {
   "cell_type": "code",
   "execution_count": null,
   "metadata": {},
   "outputs": [],
   "source": [
    "drying_result = USAD.testing(model_list[0], test_loader_list[0])\n",
    "cleaning_result = USAD.testing(model_list[1], test_loader_list[1])\n",
    "quenching_result = USAD.testing(model_list[2], test_loader_list[2])\n",
    "salt_result = USAD.testing(model_list[3], test_loader_list[3])"
   ]
  }
 ],
 "metadata": {
  "kernelspec": {
   "display_name": "KAMP-JyWOzC9O",
   "language": "python",
   "name": "python3"
  },
  "language_info": {
   "codemirror_mode": {
    "name": "ipython",
    "version": 3
   },
   "file_extension": ".py",
   "mimetype": "text/x-python",
   "name": "python",
   "nbconvert_exporter": "python",
   "pygments_lexer": "ipython3",
   "version": "3.11.4"
  }
 },
 "nbformat": 4,
 "nbformat_minor": 2
}
